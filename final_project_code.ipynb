{
 "cells": [
  {
   "cell_type": "markdown",
   "metadata": {},
   "source": [
    "## Final Project ##"
   ]
  },
  {
   "cell_type": "markdown",
   "metadata": {},
   "source": [
    "Firstly we load the data"
   ]
  },
  {
   "cell_type": "code",
   "execution_count": 2,
   "metadata": {},
   "outputs": [],
   "source": [
    "\"\"\"\n",
    "/usr/local/bin/python3.10 -m pip install pandas scikit-learn keras matplotlib sentence-transformers\n",
    "\n",
    "\"\"\"\n",
    "%matplotlib inline\n",
    "\n",
    "\n",
    "\n"
   ]
  },
  {
   "cell_type": "markdown",
   "metadata": {},
   "source": [
    "pip install datasets"
   ]
  },
  {
   "cell_type": "code",
   "execution_count": 3,
   "metadata": {},
   "outputs": [
    {
     "name": "stdout",
     "output_type": "stream",
     "text": [
      "Index(['ID', 'Resume_str', 'Resume_html', 'Category'], dtype='object')\n",
      "Index(['Job Title', 'Role', 'Job Description'], dtype='object')\n"
     ]
    }
   ],
   "source": [
    "import pandas as pd\n",
    "\n",
    "\n",
    "# Replace \"Saba06huggingface/resume_dataset\" \n",
    "resumes = pd.read_csv(\"data/resume.csv\")\n",
    "\n",
    "# splits = {'train': 'train_dataset.json', 'validation': 'val_dataset.json', 'test': 'test_dataset.json'}\n",
    "# df = pd.read_json(\"hf://datasets/Saba06huggingface/resume_dataset/\" + splits[\"train\"], lines=True)\n",
    "\n",
    "print(resumes.columns)\n",
    "\n",
    "# job descirption data set form data folder\n",
    "job_descriptions = pd.read_csv(\"data/jb_df.csv\")\n",
    "\n",
    "print(job_descriptions.columns)\n",
    "\n",
    "\n"
   ]
  },
  {
   "cell_type": "markdown",
   "metadata": {},
   "source": [
    "**Exploring the data**"
   ]
  },
  {
   "cell_type": "code",
   "execution_count": 4,
   "metadata": {},
   "outputs": [
    {
     "name": "stdout",
     "output_type": "stream",
     "text": [
      "         ID                                         Resume_str  \\\n",
      "0  16852973           HR ADMINISTRATOR/MARKETING ASSOCIATE\\...   \n",
      "1  22323967           HR SPECIALIST, US HR OPERATIONS      ...   \n",
      "2  33176873           HR DIRECTOR       Summary      Over 2...   \n",
      "3  27018550           HR SPECIALIST       Summary    Dedica...   \n",
      "4  17812897           HR MANAGER         Skill Highlights  ...   \n",
      "\n",
      "                                         Resume_html Category  \n",
      "0  <div class=\"fontsize fontface vmargins hmargin...       HR  \n",
      "1  <div class=\"fontsize fontface vmargins hmargin...       HR  \n",
      "2  <div class=\"fontsize fontface vmargins hmargin...       HR  \n",
      "3  <div class=\"fontsize fontface vmargins hmargin...       HR  \n",
      "4  <div class=\"fontsize fontface vmargins hmargin...       HR  \n",
      "\n",
      "                  Job Title                          Role  \\\n",
      "0       Procurement Manager    Supplier Diversity Manager   \n",
      "1    Architectural Designer         Architectural Drafter   \n",
      "2               Art Teacher     Art Education Coordinator   \n",
      "3  Environmental Consultant  Environmental Impact Analyst   \n",
      "4               Art Teacher     Art Education Coordinator   \n",
      "\n",
      "                                     Job Description  \n",
      "0  Promote diversity and inclusion in the supply ...  \n",
      "1  Architectural Drafters assist architects and e...  \n",
      "2  An Art Education Coordinator plans and manages...  \n",
      "3  Environmental Impact Analysts assess the envir...  \n",
      "4  An Art Education Coordinator plans and manages...  \n"
     ]
    }
   ],
   "source": [
    "print(resumes.head())\n",
    "print()\n",
    "print(job_descriptions.head())"
   ]
  },
  {
   "cell_type": "code",
   "execution_count": 5,
   "metadata": {},
   "outputs": [
    {
     "name": "stdout",
     "output_type": "stream",
     "text": [
      "ID             0\n",
      "Resume_str     0\n",
      "Resume_html    0\n",
      "Category       0\n",
      "dtype: int64\n",
      "\n",
      "Job Title          0\n",
      "Role               0\n",
      "Job Description    0\n",
      "dtype: int64\n"
     ]
    }
   ],
   "source": [
    "print(resumes.isnull().sum())\n",
    "print()\n",
    "print(job_descriptions.isnull().sum())"
   ]
  },
  {
   "cell_type": "code",
   "execution_count": 6,
   "metadata": {},
   "outputs": [
    {
     "name": "stdout",
     "output_type": "stream",
     "text": [
      "(2484, 4)\n",
      "<class 'pandas.core.frame.DataFrame'>\n",
      "RangeIndex: 2484 entries, 0 to 2483\n",
      "Data columns (total 4 columns):\n",
      " #   Column       Non-Null Count  Dtype \n",
      "---  ------       --------------  ----- \n",
      " 0   ID           2484 non-null   int64 \n",
      " 1   Resume_str   2484 non-null   object\n",
      " 2   Resume_html  2484 non-null   object\n",
      " 3   Category     2484 non-null   object\n",
      "dtypes: int64(1), object(3)\n",
      "memory usage: 77.8+ KB\n",
      "None\n",
      "\n",
      "(200000, 3)\n",
      "<class 'pandas.core.frame.DataFrame'>\n",
      "RangeIndex: 200000 entries, 0 to 199999\n",
      "Data columns (total 3 columns):\n",
      " #   Column           Non-Null Count   Dtype \n",
      "---  ------           --------------   ----- \n",
      " 0   Job Title        200000 non-null  object\n",
      " 1   Role             200000 non-null  object\n",
      " 2   Job Description  200000 non-null  object\n",
      "dtypes: object(3)\n",
      "memory usage: 4.6+ MB\n",
      "None\n"
     ]
    }
   ],
   "source": [
    "print(resumes.shape)\n",
    "print(resumes.info())\n",
    "print()\n",
    "print(job_descriptions.shape)\n",
    "print(job_descriptions.info())"
   ]
  },
  {
   "cell_type": "code",
   "execution_count": 7,
   "metadata": {},
   "outputs": [
    {
     "name": "stdout",
     "output_type": "stream",
     "text": [
      "Category\n",
      "INFORMATION-TECHNOLOGY    120\n",
      "BUSINESS-DEVELOPMENT      120\n",
      "FINANCE                   118\n",
      "ADVOCATE                  118\n",
      "ACCOUNTANT                118\n",
      "ENGINEERING               118\n",
      "CHEF                      118\n",
      "AVIATION                  117\n",
      "FITNESS                   117\n",
      "SALES                     116\n",
      "BANKING                   115\n",
      "HEALTHCARE                115\n",
      "CONSULTANT                115\n",
      "CONSTRUCTION              112\n",
      "PUBLIC-RELATIONS          111\n",
      "HR                        110\n",
      "DESIGNER                  107\n",
      "ARTS                      103\n",
      "TEACHER                   102\n",
      "APPAREL                    97\n",
      "DIGITAL-MEDIA              96\n",
      "AGRICULTURE                63\n",
      "AUTOMOBILE                 36\n",
      "BPO                        22\n",
      "Name: count, dtype: int64\n",
      "\n",
      "total number of resumes: 2484\n",
      "total number of categories: 24\n"
     ]
    }
   ],
   "source": [
    "print(resumes['Category'].value_counts())\n",
    "print()\n",
    "# print the total number of resumes\n",
    "print(\"total number of resumes:\", resumes['Category'].value_counts().sum())\n",
    "\n",
    "#Print number of unique categories \n",
    "print(\"total number of categories:\", resumes['Category'].nunique())"
   ]
  },
  {
   "cell_type": "code",
   "execution_count": 8,
   "metadata": {},
   "outputs": [
    {
     "name": "stdout",
     "output_type": "stream",
     "text": [
      "count    2484.000000\n",
      "mean      811.325684\n",
      "std       371.006906\n",
      "min         0.000000\n",
      "25%       651.000000\n",
      "50%       757.000000\n",
      "75%       933.000000\n",
      "max      5190.000000\n",
      "Name: resume_length, dtype: float64\n",
      "count    200000.000000\n",
      "mean         24.195915\n",
      "std           7.473316\n",
      "min          10.000000\n",
      "25%          19.000000\n",
      "50%          24.000000\n",
      "75%          28.000000\n",
      "max          62.000000\n",
      "Name: job_desc_length, dtype: float64\n"
     ]
    }
   ],
   "source": [
    "resumes['resume_length'] = resumes['Resume_str'].apply(lambda x: len(x.split()))\n",
    "job_descriptions['job_desc_length'] = job_descriptions['Job Description'].apply(lambda x: len(x.split()))\n",
    "\n",
    "print(resumes['resume_length'].describe())\n",
    "print(job_descriptions['job_desc_length'].describe())\n",
    "\n"
   ]
  },
  {
   "cell_type": "code",
   "execution_count": 9,
   "metadata": {},
   "outputs": [
    {
     "data": {
      "application/vnd.plotly.v1+json": {
       "config": {
        "plotlyServerURL": "https://plot.ly"
       },
       "data": [
        {
         "domain": {
          "x": [
           0,
           1
          ],
          "y": [
           0,
           1
          ]
         },
         "hole": 0.3,
         "hovertemplate": "Category=%{label}<br>Count=%{value}<extra></extra>",
         "labels": [
          "INFORMATION-TECHNOLOGY",
          "BUSINESS-DEVELOPMENT",
          "FINANCE",
          "ADVOCATE",
          "ACCOUNTANT",
          "ENGINEERING",
          "CHEF",
          "AVIATION",
          "FITNESS",
          "SALES",
          "BANKING",
          "HEALTHCARE",
          "CONSULTANT",
          "CONSTRUCTION",
          "PUBLIC-RELATIONS",
          "HR",
          "DESIGNER",
          "ARTS",
          "TEACHER",
          "APPAREL",
          "DIGITAL-MEDIA",
          "AGRICULTURE",
          "AUTOMOBILE",
          "BPO"
         ],
         "legendgroup": "",
         "name": "",
         "showlegend": true,
         "textinfo": "percent+label",
         "type": "pie",
         "values": [
          120,
          120,
          118,
          118,
          118,
          118,
          118,
          117,
          117,
          116,
          115,
          115,
          115,
          112,
          111,
          110,
          107,
          103,
          102,
          97,
          96,
          63,
          36,
          22
         ]
        }
       ],
       "layout": {
        "legend": {
         "tracegroupgap": 0
        },
        "piecolorway": [
         "rgb(247,251,255)",
         "rgb(222,235,247)",
         "rgb(198,219,239)",
         "rgb(158,202,225)",
         "rgb(107,174,214)",
         "rgb(66,146,198)",
         "rgb(33,113,181)",
         "rgb(8,81,156)",
         "rgb(8,48,107)"
        ],
        "template": {
         "data": {
          "bar": [
           {
            "error_x": {
             "color": "#2a3f5f"
            },
            "error_y": {
             "color": "#2a3f5f"
            },
            "marker": {
             "line": {
              "color": "white",
              "width": 0.5
             },
             "pattern": {
              "fillmode": "overlay",
              "size": 10,
              "solidity": 0.2
             }
            },
            "type": "bar"
           }
          ],
          "barpolar": [
           {
            "marker": {
             "line": {
              "color": "white",
              "width": 0.5
             },
             "pattern": {
              "fillmode": "overlay",
              "size": 10,
              "solidity": 0.2
             }
            },
            "type": "barpolar"
           }
          ],
          "carpet": [
           {
            "aaxis": {
             "endlinecolor": "#2a3f5f",
             "gridcolor": "#C8D4E3",
             "linecolor": "#C8D4E3",
             "minorgridcolor": "#C8D4E3",
             "startlinecolor": "#2a3f5f"
            },
            "baxis": {
             "endlinecolor": "#2a3f5f",
             "gridcolor": "#C8D4E3",
             "linecolor": "#C8D4E3",
             "minorgridcolor": "#C8D4E3",
             "startlinecolor": "#2a3f5f"
            },
            "type": "carpet"
           }
          ],
          "choropleth": [
           {
            "colorbar": {
             "outlinewidth": 0,
             "ticks": ""
            },
            "type": "choropleth"
           }
          ],
          "contour": [
           {
            "colorbar": {
             "outlinewidth": 0,
             "ticks": ""
            },
            "colorscale": [
             [
              0,
              "#0d0887"
             ],
             [
              0.1111111111111111,
              "#46039f"
             ],
             [
              0.2222222222222222,
              "#7201a8"
             ],
             [
              0.3333333333333333,
              "#9c179e"
             ],
             [
              0.4444444444444444,
              "#bd3786"
             ],
             [
              0.5555555555555556,
              "#d8576b"
             ],
             [
              0.6666666666666666,
              "#ed7953"
             ],
             [
              0.7777777777777778,
              "#fb9f3a"
             ],
             [
              0.8888888888888888,
              "#fdca26"
             ],
             [
              1,
              "#f0f921"
             ]
            ],
            "type": "contour"
           }
          ],
          "contourcarpet": [
           {
            "colorbar": {
             "outlinewidth": 0,
             "ticks": ""
            },
            "type": "contourcarpet"
           }
          ],
          "heatmap": [
           {
            "colorbar": {
             "outlinewidth": 0,
             "ticks": ""
            },
            "colorscale": [
             [
              0,
              "#0d0887"
             ],
             [
              0.1111111111111111,
              "#46039f"
             ],
             [
              0.2222222222222222,
              "#7201a8"
             ],
             [
              0.3333333333333333,
              "#9c179e"
             ],
             [
              0.4444444444444444,
              "#bd3786"
             ],
             [
              0.5555555555555556,
              "#d8576b"
             ],
             [
              0.6666666666666666,
              "#ed7953"
             ],
             [
              0.7777777777777778,
              "#fb9f3a"
             ],
             [
              0.8888888888888888,
              "#fdca26"
             ],
             [
              1,
              "#f0f921"
             ]
            ],
            "type": "heatmap"
           }
          ],
          "heatmapgl": [
           {
            "colorbar": {
             "outlinewidth": 0,
             "ticks": ""
            },
            "colorscale": [
             [
              0,
              "#0d0887"
             ],
             [
              0.1111111111111111,
              "#46039f"
             ],
             [
              0.2222222222222222,
              "#7201a8"
             ],
             [
              0.3333333333333333,
              "#9c179e"
             ],
             [
              0.4444444444444444,
              "#bd3786"
             ],
             [
              0.5555555555555556,
              "#d8576b"
             ],
             [
              0.6666666666666666,
              "#ed7953"
             ],
             [
              0.7777777777777778,
              "#fb9f3a"
             ],
             [
              0.8888888888888888,
              "#fdca26"
             ],
             [
              1,
              "#f0f921"
             ]
            ],
            "type": "heatmapgl"
           }
          ],
          "histogram": [
           {
            "marker": {
             "pattern": {
              "fillmode": "overlay",
              "size": 10,
              "solidity": 0.2
             }
            },
            "type": "histogram"
           }
          ],
          "histogram2d": [
           {
            "colorbar": {
             "outlinewidth": 0,
             "ticks": ""
            },
            "colorscale": [
             [
              0,
              "#0d0887"
             ],
             [
              0.1111111111111111,
              "#46039f"
             ],
             [
              0.2222222222222222,
              "#7201a8"
             ],
             [
              0.3333333333333333,
              "#9c179e"
             ],
             [
              0.4444444444444444,
              "#bd3786"
             ],
             [
              0.5555555555555556,
              "#d8576b"
             ],
             [
              0.6666666666666666,
              "#ed7953"
             ],
             [
              0.7777777777777778,
              "#fb9f3a"
             ],
             [
              0.8888888888888888,
              "#fdca26"
             ],
             [
              1,
              "#f0f921"
             ]
            ],
            "type": "histogram2d"
           }
          ],
          "histogram2dcontour": [
           {
            "colorbar": {
             "outlinewidth": 0,
             "ticks": ""
            },
            "colorscale": [
             [
              0,
              "#0d0887"
             ],
             [
              0.1111111111111111,
              "#46039f"
             ],
             [
              0.2222222222222222,
              "#7201a8"
             ],
             [
              0.3333333333333333,
              "#9c179e"
             ],
             [
              0.4444444444444444,
              "#bd3786"
             ],
             [
              0.5555555555555556,
              "#d8576b"
             ],
             [
              0.6666666666666666,
              "#ed7953"
             ],
             [
              0.7777777777777778,
              "#fb9f3a"
             ],
             [
              0.8888888888888888,
              "#fdca26"
             ],
             [
              1,
              "#f0f921"
             ]
            ],
            "type": "histogram2dcontour"
           }
          ],
          "mesh3d": [
           {
            "colorbar": {
             "outlinewidth": 0,
             "ticks": ""
            },
            "type": "mesh3d"
           }
          ],
          "parcoords": [
           {
            "line": {
             "colorbar": {
              "outlinewidth": 0,
              "ticks": ""
             }
            },
            "type": "parcoords"
           }
          ],
          "pie": [
           {
            "automargin": true,
            "type": "pie"
           }
          ],
          "scatter": [
           {
            "fillpattern": {
             "fillmode": "overlay",
             "size": 10,
             "solidity": 0.2
            },
            "type": "scatter"
           }
          ],
          "scatter3d": [
           {
            "line": {
             "colorbar": {
              "outlinewidth": 0,
              "ticks": ""
             }
            },
            "marker": {
             "colorbar": {
              "outlinewidth": 0,
              "ticks": ""
             }
            },
            "type": "scatter3d"
           }
          ],
          "scattercarpet": [
           {
            "marker": {
             "colorbar": {
              "outlinewidth": 0,
              "ticks": ""
             }
            },
            "type": "scattercarpet"
           }
          ],
          "scattergeo": [
           {
            "marker": {
             "colorbar": {
              "outlinewidth": 0,
              "ticks": ""
             }
            },
            "type": "scattergeo"
           }
          ],
          "scattergl": [
           {
            "marker": {
             "colorbar": {
              "outlinewidth": 0,
              "ticks": ""
             }
            },
            "type": "scattergl"
           }
          ],
          "scattermapbox": [
           {
            "marker": {
             "colorbar": {
              "outlinewidth": 0,
              "ticks": ""
             }
            },
            "type": "scattermapbox"
           }
          ],
          "scatterpolar": [
           {
            "marker": {
             "colorbar": {
              "outlinewidth": 0,
              "ticks": ""
             }
            },
            "type": "scatterpolar"
           }
          ],
          "scatterpolargl": [
           {
            "marker": {
             "colorbar": {
              "outlinewidth": 0,
              "ticks": ""
             }
            },
            "type": "scatterpolargl"
           }
          ],
          "scatterternary": [
           {
            "marker": {
             "colorbar": {
              "outlinewidth": 0,
              "ticks": ""
             }
            },
            "type": "scatterternary"
           }
          ],
          "surface": [
           {
            "colorbar": {
             "outlinewidth": 0,
             "ticks": ""
            },
            "colorscale": [
             [
              0,
              "#0d0887"
             ],
             [
              0.1111111111111111,
              "#46039f"
             ],
             [
              0.2222222222222222,
              "#7201a8"
             ],
             [
              0.3333333333333333,
              "#9c179e"
             ],
             [
              0.4444444444444444,
              "#bd3786"
             ],
             [
              0.5555555555555556,
              "#d8576b"
             ],
             [
              0.6666666666666666,
              "#ed7953"
             ],
             [
              0.7777777777777778,
              "#fb9f3a"
             ],
             [
              0.8888888888888888,
              "#fdca26"
             ],
             [
              1,
              "#f0f921"
             ]
            ],
            "type": "surface"
           }
          ],
          "table": [
           {
            "cells": {
             "fill": {
              "color": "#EBF0F8"
             },
             "line": {
              "color": "white"
             }
            },
            "header": {
             "fill": {
              "color": "#C8D4E3"
             },
             "line": {
              "color": "white"
             }
            },
            "type": "table"
           }
          ]
         },
         "layout": {
          "annotationdefaults": {
           "arrowcolor": "#2a3f5f",
           "arrowhead": 0,
           "arrowwidth": 1
          },
          "autotypenumbers": "strict",
          "coloraxis": {
           "colorbar": {
            "outlinewidth": 0,
            "ticks": ""
           }
          },
          "colorscale": {
           "diverging": [
            [
             0,
             "#8e0152"
            ],
            [
             0.1,
             "#c51b7d"
            ],
            [
             0.2,
             "#de77ae"
            ],
            [
             0.3,
             "#f1b6da"
            ],
            [
             0.4,
             "#fde0ef"
            ],
            [
             0.5,
             "#f7f7f7"
            ],
            [
             0.6,
             "#e6f5d0"
            ],
            [
             0.7,
             "#b8e186"
            ],
            [
             0.8,
             "#7fbc41"
            ],
            [
             0.9,
             "#4d9221"
            ],
            [
             1,
             "#276419"
            ]
           ],
           "sequential": [
            [
             0,
             "#0d0887"
            ],
            [
             0.1111111111111111,
             "#46039f"
            ],
            [
             0.2222222222222222,
             "#7201a8"
            ],
            [
             0.3333333333333333,
             "#9c179e"
            ],
            [
             0.4444444444444444,
             "#bd3786"
            ],
            [
             0.5555555555555556,
             "#d8576b"
            ],
            [
             0.6666666666666666,
             "#ed7953"
            ],
            [
             0.7777777777777778,
             "#fb9f3a"
            ],
            [
             0.8888888888888888,
             "#fdca26"
            ],
            [
             1,
             "#f0f921"
            ]
           ],
           "sequentialminus": [
            [
             0,
             "#0d0887"
            ],
            [
             0.1111111111111111,
             "#46039f"
            ],
            [
             0.2222222222222222,
             "#7201a8"
            ],
            [
             0.3333333333333333,
             "#9c179e"
            ],
            [
             0.4444444444444444,
             "#bd3786"
            ],
            [
             0.5555555555555556,
             "#d8576b"
            ],
            [
             0.6666666666666666,
             "#ed7953"
            ],
            [
             0.7777777777777778,
             "#fb9f3a"
            ],
            [
             0.8888888888888888,
             "#fdca26"
            ],
            [
             1,
             "#f0f921"
            ]
           ]
          },
          "colorway": [
           "#636efa",
           "#EF553B",
           "#00cc96",
           "#ab63fa",
           "#FFA15A",
           "#19d3f3",
           "#FF6692",
           "#B6E880",
           "#FF97FF",
           "#FECB52"
          ],
          "font": {
           "color": "#2a3f5f"
          },
          "geo": {
           "bgcolor": "white",
           "lakecolor": "white",
           "landcolor": "white",
           "showlakes": true,
           "showland": true,
           "subunitcolor": "#C8D4E3"
          },
          "hoverlabel": {
           "align": "left"
          },
          "hovermode": "closest",
          "mapbox": {
           "style": "light"
          },
          "paper_bgcolor": "white",
          "plot_bgcolor": "white",
          "polar": {
           "angularaxis": {
            "gridcolor": "#EBF0F8",
            "linecolor": "#EBF0F8",
            "ticks": ""
           },
           "bgcolor": "white",
           "radialaxis": {
            "gridcolor": "#EBF0F8",
            "linecolor": "#EBF0F8",
            "ticks": ""
           }
          },
          "scene": {
           "xaxis": {
            "backgroundcolor": "white",
            "gridcolor": "#DFE8F3",
            "gridwidth": 2,
            "linecolor": "#EBF0F8",
            "showbackground": true,
            "ticks": "",
            "zerolinecolor": "#EBF0F8"
           },
           "yaxis": {
            "backgroundcolor": "white",
            "gridcolor": "#DFE8F3",
            "gridwidth": 2,
            "linecolor": "#EBF0F8",
            "showbackground": true,
            "ticks": "",
            "zerolinecolor": "#EBF0F8"
           },
           "zaxis": {
            "backgroundcolor": "white",
            "gridcolor": "#DFE8F3",
            "gridwidth": 2,
            "linecolor": "#EBF0F8",
            "showbackground": true,
            "ticks": "",
            "zerolinecolor": "#EBF0F8"
           }
          },
          "shapedefaults": {
           "line": {
            "color": "#2a3f5f"
           }
          },
          "ternary": {
           "aaxis": {
            "gridcolor": "#DFE8F3",
            "linecolor": "#A2B1C6",
            "ticks": ""
           },
           "baxis": {
            "gridcolor": "#DFE8F3",
            "linecolor": "#A2B1C6",
            "ticks": ""
           },
           "bgcolor": "white",
           "caxis": {
            "gridcolor": "#DFE8F3",
            "linecolor": "#A2B1C6",
            "ticks": ""
           }
          },
          "title": {
           "x": 0.05
          },
          "xaxis": {
           "automargin": true,
           "gridcolor": "#EBF0F8",
           "linecolor": "#EBF0F8",
           "ticks": "",
           "title": {
            "standoff": 15
           },
           "zerolinecolor": "#EBF0F8",
           "zerolinewidth": 2
          },
          "yaxis": {
           "automargin": true,
           "gridcolor": "#EBF0F8",
           "linecolor": "#EBF0F8",
           "ticks": "",
           "title": {
            "standoff": 15
           },
           "zerolinecolor": "#EBF0F8",
           "zerolinewidth": 2
          }
         }
        },
        "title": {
         "text": "Distribution of Resume Categories"
        }
       }
      }
     },
     "metadata": {},
     "output_type": "display_data"
    }
   ],
   "source": [
    "import plotly.express as px\n",
    "\n",
    "# Calculate the frequency of each category\n",
    "category_counts = resumes['Category'].value_counts().reset_index()\n",
    "category_counts.columns = ['Category', 'Count']\n",
    "\n",
    "# Create the interactive pie chart\n",
    "fig = px.pie(\n",
    "    category_counts,\n",
    "    names='Category',\n",
    "    values='Count',\n",
    "    title='Distribution of Resume Categories',\n",
    "    hole=0.3,  # Optional: To create a donut chart, use a value between 0 and 1\n",
    "    color_discrete_sequence=px.colors.sequential.Blues  # Optional: Change color palette\n",
    ")\n",
    "\n",
    "# Customize the layout\n",
    "fig.update_traces(textinfo='percent+label')  # Display percentage and category name on the chart\n",
    "fig.update_layout(template='plotly_white')\n",
    "\n",
    "# Show the interactive plot\n",
    "fig.show()\n"
   ]
  },
  {
   "cell_type": "markdown",
   "metadata": {},
   "source": [
    "Second Visualization: **Word Cloud**"
   ]
  },
  {
   "cell_type": "code",
   "execution_count": null,
   "metadata": {},
   "outputs": [
    {
     "ename": "NameError",
     "evalue": "name 'plt' is not defined",
     "output_type": "error",
     "traceback": [
      "\u001b[0;31m---------------------------------------------------------------------------\u001b[0m",
      "\u001b[0;31mNameError\u001b[0m                                 Traceback (most recent call last)",
      "Cell \u001b[0;32mIn[10], line 15\u001b[0m\n\u001b[1;32m     13\u001b[0m \u001b[38;5;66;03m# Word cloud\u001b[39;00m\n\u001b[1;32m     14\u001b[0m wordcloud \u001b[38;5;241m=\u001b[39m WordCloud(width\u001b[38;5;241m=\u001b[39m\u001b[38;5;241m800\u001b[39m, height\u001b[38;5;241m=\u001b[39m\u001b[38;5;241m400\u001b[39m, background_color\u001b[38;5;241m=\u001b[39m\u001b[38;5;124m\"\u001b[39m\u001b[38;5;124mwhite\u001b[39m\u001b[38;5;124m\"\u001b[39m)\u001b[38;5;241m.\u001b[39mgenerate_from_frequencies(word_counts)\n\u001b[0;32m---> 15\u001b[0m \u001b[43mplt\u001b[49m\u001b[38;5;241m.\u001b[39mfigure(figsize\u001b[38;5;241m=\u001b[39m(\u001b[38;5;241m10\u001b[39m, \u001b[38;5;241m5\u001b[39m))\n\u001b[1;32m     16\u001b[0m plt\u001b[38;5;241m.\u001b[39mimshow(wordcloud, interpolation\u001b[38;5;241m=\u001b[39m\u001b[38;5;124m\"\u001b[39m\u001b[38;5;124mbilinear\u001b[39m\u001b[38;5;124m\"\u001b[39m)\n\u001b[1;32m     17\u001b[0m plt\u001b[38;5;241m.\u001b[39maxis(\u001b[38;5;124m\"\u001b[39m\u001b[38;5;124moff\u001b[39m\u001b[38;5;124m\"\u001b[39m)\n",
      "\u001b[0;31mNameError\u001b[0m: name 'plt' is not defined"
     ]
    }
   ],
   "source": [
    "from collections import Counter\n",
    "from wordcloud import WordCloud\n",
    "import matplotlib.pyplot as plt\n",
    "\n",
    "# Word frequency visualization for the IT category\n",
    "# words taken from the dictionary created further below\n",
    "category_words = [\"Python\", \"Java\", \"C++\", \"JavaScript\", \"HTML\", \"CSS\", \"SQL\", \"NoSQL\", \"React\", \"Angular\",\n",
    "        \"Django\", \"Flask\", \"Git\", \"AWS\", \"Azure\", \"Google Cloud Platform\", \"DevOps\", \"Docker\",\n",
    "        \"Kubernetes\", \"Linux\", \"Windows Server\", \"Machine Learning\", \"Data Science\", \"TensorFlow\",\n",
    "        \"Keras\", \"Cybersecurity\", \"Penetration Testing\", \"Scrum\", \"Agile\", \"REST APIs\",\n",
    "        \"Microservices\", \"Networking\", \"Cloud Computing\", \"Virtualization\", \"Data Analysis\"]\n",
    "word_counts = Counter(category_words)\n",
    "\n",
    "# Word cloud\n",
    "wordcloud = WordCloud(width=800, height=400, background_color=\"white\").generate_from_frequencies(word_counts)\n",
    "plt.figure(figsize=(10, 5))\n",
    "plt.imshow(wordcloud, interpolation=\"bilinear\")\n",
    "plt.axis(\"off\")\n",
    "plt.show()\n",
    "\n",
    "# Word frequency visualization for the Chef category\n",
    "category_words = [\"Menu Planning\", \"Food Preparation\", \"Culinary Techniques\", \"Recipe Development\",\n",
    "        \"Inventory Management\", \"Food Safety\", \"Sanitation Standards\", \"Pastry Skills\",\n",
    "        \"Grill Station\", \"Sous Vide Cooking\", \"Knife Skills\", \"Garnishing\", \"Plating\",\n",
    "        \"Baking\", \"Kitchen Operations\", \"Staff Management\", \"Cost Control\",\n",
    "        \"Menu Costing\", \"Customer Service\", \"Catering\"]\n",
    "\n",
    "word_counts2 = Counter(category_words)\n",
    "\n",
    "# Word cloud\n",
    "wordcloud = WordCloud(width=800, height=400, background_color=\"white\").generate_from_frequencies(word_counts2)\n",
    "plt.figure(figsize=(10, 5))\n",
    "plt.imshow(wordcloud, interpolation=\"bilinear\")\n",
    "plt.axis(\"off\")\n",
    "plt.show()\n",
    "\n",
    "# Word frequency visualization for the Agriculture category\n",
    "category_words = [\"Crop Management\", \"Farm Equipment\", \"Horticulture\", \"Soil Testing\", \"Irrigation Systems\",\n",
    "        \"Pest Control\", \"Agronomy\", \"Livestock Management\", \"Sustainable Farming\", \"Organic Certification\",\n",
    "        \"Farm Operations\", \"Yield Optimization\", \"Composting\", \"Agricultural Policy\", \"Crop Rotation\"]\n",
    "\n",
    "word_counts3 = Counter(category_words)\n",
    "\n",
    "# Word cloud\n",
    "wordcloud = WordCloud(width=800, height=400, background_color=\"white\").generate_from_frequencies(word_counts3)\n",
    "plt.figure(figsize=(10, 5))\n",
    "plt.imshow(wordcloud, interpolation=\"bilinear\")\n",
    "plt.axis(\"off\")\n",
    "plt.show()\n"
   ]
  },
  {
   "cell_type": "markdown",
   "metadata": {},
   "source": [
    "Third Visualization: **Resume Length Distribution**"
   ]
  },
  {
   "cell_type": "code",
   "execution_count": 5,
   "metadata": {},
   "outputs": [
    {
     "data": {
      "application/vnd.plotly.v1+json": {
       "config": {
        "plotlyServerURL": "https://plot.ly"
       },
       "data": [
        {
         "alignmentgroup": "True",
         "bingroup": "x",
         "hovertemplate": "Resume Length=%{x}<br>count=%{y}<extra></extra>",
         "legendgroup": "",
         "marker": {
          "color": "skyblue",
          "pattern": {
           "shape": ""
          }
         },
         "name": "",
         "nbinsx": 30,
         "offsetgroup": "",
         "orientation": "v",
         "showlegend": false,
         "type": "histogram",
         "x": [
          674,
          708,
          1017,
          379,
          1206,
          666,
          637,
          1106,
          796,
          716,
          679,
          1123,
          732,
          715,
          724,
          750,
          701,
          1123,
          642,
          802,
          620,
          1108,
          1510,
          628,
          757,
          612,
          798,
          706,
          643,
          941,
          794,
          776,
          906,
          1552,
          729,
          1015,
          638,
          1213,
          623,
          765,
          724,
          748,
          859,
          840,
          813,
          581,
          896,
          1102,
          659,
          421,
          913,
          917,
          1177,
          825,
          828,
          826,
          750,
          828,
          1066,
          706,
          979,
          1038,
          700,
          714,
          687,
          851,
          748,
          891,
          662,
          713,
          726,
          717,
          670,
          653,
          713,
          734,
          670,
          759,
          1065,
          686,
          914,
          2302,
          511,
          1002,
          814,
          674,
          662,
          1761,
          660,
          1652,
          648,
          1318,
          846,
          632,
          3119,
          1054,
          1197,
          641,
          683,
          254,
          647,
          910,
          720,
          676,
          919,
          665,
          807,
          716,
          760,
          661,
          582,
          565,
          245,
          755,
          247,
          362,
          909,
          315,
          643,
          940,
          1548,
          417,
          1091,
          1065,
          826,
          881,
          1132,
          1295,
          711,
          826,
          131,
          1348,
          711,
          289,
          200,
          692,
          491,
          1101,
          826,
          338,
          335,
          763,
          726,
          456,
          591,
          1666,
          359,
          722,
          1201,
          430,
          286,
          252,
          843,
          134,
          710,
          860,
          606,
          318,
          2284,
          914,
          253,
          754,
          735,
          815,
          426,
          1143,
          801,
          770,
          957,
          532,
          901,
          714,
          482,
          477,
          787,
          565,
          375,
          307,
          242,
          706,
          782,
          814,
          2268,
          1090,
          1099,
          649,
          465,
          393,
          346,
          539,
          295,
          256,
          894,
          711,
          932,
          811,
          946,
          706,
          799,
          1449,
          732,
          948,
          883,
          630,
          830,
          877,
          838,
          512,
          1568,
          699,
          653,
          760,
          714,
          1081,
          747,
          455,
          791,
          617,
          807,
          540,
          736,
          573,
          944,
          2043,
          888,
          961,
          1206,
          658,
          1163,
          715,
          780,
          657,
          906,
          1227,
          1572,
          729,
          846,
          710,
          862,
          913,
          330,
          881,
          692,
          714,
          1289,
          653,
          966,
          807,
          753,
          380,
          1661,
          579,
          390,
          995,
          1321,
          556,
          1325,
          872,
          1641,
          1847,
          628,
          237,
          907,
          956,
          402,
          465,
          710,
          797,
          700,
          805,
          886,
          751,
          662,
          721,
          606,
          1098,
          875,
          741,
          691,
          723,
          1256,
          920,
          1055,
          1241,
          871,
          915,
          419,
          983,
          1012,
          899,
          655,
          832,
          809,
          1347,
          1172,
          786,
          1186,
          1227,
          916,
          1513,
          702,
          1030,
          1140,
          1397,
          662,
          1296,
          829,
          655,
          394,
          1313,
          826,
          1222,
          614,
          2044,
          738,
          716,
          1431,
          613,
          1253,
          931,
          321,
          1715,
          826,
          695,
          1041,
          729,
          928,
          688,
          743,
          1085,
          1053,
          2670,
          741,
          671,
          884,
          1769,
          745,
          905,
          351,
          361,
          362,
          789,
          754,
          619,
          746,
          909,
          788,
          728,
          628,
          903,
          1027,
          955,
          754,
          705,
          887,
          563,
          801,
          483,
          698,
          873,
          714,
          594,
          756,
          825,
          662,
          1000,
          734,
          682,
          615,
          910,
          812,
          758,
          372,
          342,
          834,
          309,
          850,
          400,
          938,
          667,
          724,
          805,
          816,
          1509,
          1118,
          735,
          645,
          370,
          810,
          649,
          260,
          345,
          330,
          273,
          209,
          279,
          736,
          679,
          183,
          430,
          283,
          423,
          475,
          651,
          309,
          257,
          765,
          2694,
          850,
          663,
          755,
          813,
          331,
          428,
          1151,
          765,
          1085,
          686,
          635,
          795,
          681,
          492,
          1832,
          830,
          745,
          640,
          733,
          697,
          465,
          684,
          843,
          894,
          798,
          713,
          692,
          689,
          780,
          1247,
          1422,
          635,
          1027,
          635,
          763,
          976,
          407,
          812,
          676,
          758,
          726,
          711,
          756,
          436,
          663,
          701,
          884,
          523,
          1009,
          625,
          1590,
          696,
          667,
          468,
          958,
          638,
          645,
          689,
          681,
          304,
          772,
          644,
          1733,
          640,
          929,
          646,
          663,
          692,
          801,
          731,
          700,
          743,
          518,
          991,
          666,
          940,
          611,
          655,
          644,
          1006,
          951,
          972,
          867,
          717,
          2309,
          1844,
          757,
          601,
          1278,
          1118,
          993,
          1123,
          781,
          946,
          1923,
          852,
          794,
          1629,
          704,
          647,
          836,
          707,
          1088,
          731,
          1073,
          892,
          857,
          343,
          266,
          720,
          829,
          651,
          733,
          667,
          692,
          717,
          311,
          704,
          936,
          988,
          1313,
          974,
          648,
          804,
          731,
          1152,
          995,
          938,
          650,
          645,
          899,
          1015,
          331,
          763,
          837,
          597,
          695,
          768,
          633,
          2888,
          1061,
          942,
          612,
          797,
          758,
          1566,
          783,
          1431,
          566,
          874,
          1425,
          668,
          1030,
          637,
          851,
          438,
          417,
          619,
          657,
          306,
          326,
          665,
          927,
          549,
          954,
          925,
          631,
          861,
          534,
          1389,
          1084,
          913,
          643,
          989,
          694,
          1075,
          1006,
          360,
          495,
          280,
          370,
          816,
          975,
          857,
          648,
          1024,
          725,
          1033,
          638,
          716,
          1200,
          732,
          670,
          996,
          694,
          912,
          1189,
          947,
          731,
          950,
          756,
          777,
          801,
          753,
          742,
          716,
          969,
          505,
          648,
          798,
          337,
          216,
          485,
          783,
          664,
          1176,
          681,
          723,
          907,
          827,
          909,
          467,
          798,
          832,
          1172,
          1134,
          750,
          956,
          1083,
          954,
          1218,
          724,
          794,
          1096,
          842,
          844,
          695,
          1605,
          1399,
          536,
          564,
          712,
          874,
          482,
          488,
          697,
          737,
          478,
          0,
          838,
          737,
          370,
          974,
          1146,
          514,
          364,
          684,
          718,
          688,
          670,
          888,
          640,
          872,
          1316,
          512,
          711,
          764,
          773,
          675,
          1363,
          651,
          650,
          711,
          1615,
          390,
          2749,
          1059,
          706,
          689,
          556,
          836,
          1143,
          678,
          602,
          749,
          788,
          746,
          864,
          722,
          723,
          716,
          621,
          1061,
          794,
          726,
          733,
          307,
          660,
          1404,
          1442,
          790,
          902,
          808,
          970,
          752,
          790,
          2067,
          621,
          1020,
          953,
          959,
          1468,
          738,
          634,
          669,
          1029,
          1089,
          764,
          798,
          242,
          653,
          725,
          443,
          1591,
          917,
          645,
          618,
          1361,
          437,
          1133,
          980,
          882,
          983,
          761,
          696,
          669,
          987,
          1032,
          672,
          1128,
          1021,
          866,
          729,
          649,
          750,
          1589,
          962,
          1239,
          814,
          648,
          1061,
          831,
          654,
          1284,
          912,
          694,
          979,
          1043,
          717,
          700,
          857,
          876,
          763,
          708,
          687,
          1077,
          1133,
          969,
          680,
          715,
          643,
          794,
          984,
          659,
          745,
          690,
          809,
          830,
          794,
          935,
          965,
          658,
          1514,
          947,
          380,
          652,
          745,
          715,
          391,
          915,
          379,
          199,
          642,
          393,
          957,
          907,
          880,
          712,
          306,
          891,
          738,
          897,
          1770,
          1265,
          852,
          681,
          754,
          640,
          630,
          891,
          723,
          796,
          241,
          788,
          318,
          728,
          317,
          333,
          604,
          505,
          937,
          267,
          1002,
          1090,
          1062,
          501,
          1110,
          653,
          370,
          680,
          753,
          814,
          375,
          340,
          373,
          725,
          745,
          764,
          701,
          478,
          986,
          1003,
          1017,
          316,
          706,
          839,
          1045,
          718,
          1307,
          693,
          399,
          356,
          795,
          683,
          1124,
          671,
          1078,
          735,
          407,
          1198,
          836,
          765,
          730,
          1233,
          626,
          732,
          1070,
          700,
          738,
          922,
          747,
          661,
          827,
          912,
          1080,
          589,
          956,
          499,
          713,
          653,
          325,
          283,
          331,
          639,
          867,
          666,
          730,
          822,
          1797,
          620,
          802,
          636,
          821,
          540,
          890,
          684,
          206,
          353,
          893,
          621,
          729,
          914,
          835,
          709,
          1970,
          344,
          933,
          793,
          663,
          758,
          690,
          663,
          862,
          678,
          717,
          907,
          600,
          687,
          1101,
          196,
          192,
          1196,
          308,
          1179,
          642,
          817,
          703,
          737,
          777,
          624,
          692,
          863,
          806,
          1072,
          783,
          642,
          694,
          720,
          1239,
          668,
          637,
          882,
          816,
          857,
          453,
          904,
          765,
          823,
          673,
          1510,
          950,
          1005,
          666,
          735,
          614,
          896,
          1063,
          1415,
          1644,
          1471,
          1463,
          1052,
          1325,
          953,
          645,
          770,
          420,
          1125,
          984,
          1085,
          692,
          1107,
          834,
          922,
          829,
          797,
          726,
          513,
          1498,
          1107,
          2310,
          1236,
          1053,
          727,
          775,
          1278,
          672,
          288,
          480,
          753,
          740,
          1017,
          940,
          1640,
          685,
          631,
          856,
          858,
          952,
          442,
          890,
          863,
          255,
          595,
          961,
          679,
          350,
          799,
          1349,
          680,
          674,
          1015,
          867,
          667,
          1096,
          904,
          778,
          696,
          169,
          1099,
          704,
          632,
          359,
          289,
          368,
          370,
          373,
          300,
          284,
          311,
          222,
          169,
          454,
          319,
          852,
          247,
          448,
          322,
          331,
          387,
          680,
          122,
          801,
          273,
          457,
          378,
          427,
          628,
          458,
          899,
          875,
          675,
          696,
          750,
          725,
          759,
          937,
          302,
          813,
          665,
          716,
          833,
          933,
          1424,
          670,
          637,
          740,
          684,
          621,
          208,
          730,
          796,
          804,
          717,
          1121,
          888,
          2486,
          630,
          1258,
          1227,
          1236,
          459,
          821,
          821,
          868,
          1027,
          510,
          786,
          806,
          421,
          241,
          1102,
          830,
          852,
          128,
          709,
          711,
          485,
          458,
          398,
          974,
          846,
          719,
          1667,
          1029,
          819,
          741,
          1114,
          690,
          786,
          709,
          1286,
          680,
          688,
          677,
          849,
          933,
          1322,
          721,
          1050,
          901,
          1087,
          695,
          881,
          790,
          799,
          218,
          811,
          573,
          839,
          1099,
          1342,
          670,
          1102,
          1125,
          717,
          757,
          974,
          830,
          837,
          1000,
          810,
          921,
          1019,
          1130,
          1542,
          1413,
          831,
          632,
          735,
          1110,
          845,
          797,
          1438,
          286,
          212,
          1068,
          1568,
          661,
          1812,
          618,
          714,
          1191,
          697,
          1051,
          838,
          1551,
          899,
          766,
          338,
          1156,
          308,
          771,
          278,
          328,
          641,
          842,
          1339,
          323,
          1136,
          705,
          393,
          742,
          1092,
          775,
          1219,
          1009,
          929,
          707,
          1748,
          738,
          675,
          826,
          669,
          608,
          967,
          408,
          309,
          668,
          756,
          649,
          829,
          1112,
          904,
          194,
          696,
          655,
          856,
          964,
          1223,
          749,
          915,
          1656,
          735,
          997,
          929,
          2018,
          346,
          254,
          647,
          303,
          772,
          1085,
          702,
          1333,
          655,
          811,
          867,
          237,
          412,
          2050,
          1222,
          815,
          722,
          728,
          718,
          701,
          329,
          845,
          945,
          674,
          791,
          887,
          1079,
          511,
          514,
          756,
          843,
          450,
          1498,
          3301,
          854,
          1013,
          844,
          1769,
          334,
          1113,
          634,
          543,
          330,
          816,
          643,
          663,
          691,
          985,
          910,
          739,
          695,
          845,
          343,
          853,
          705,
          1058,
          1081,
          1217,
          783,
          257,
          368,
          1138,
          683,
          943,
          772,
          826,
          391,
          422,
          298,
          856,
          1869,
          845,
          861,
          424,
          272,
          580,
          331,
          631,
          379,
          1285,
          484,
          1000,
          806,
          636,
          850,
          703,
          972,
          1146,
          596,
          869,
          987,
          766,
          470,
          695,
          845,
          535,
          1001,
          213,
          920,
          632,
          693,
          1763,
          1286,
          899,
          561,
          651,
          439,
          863,
          278,
          794,
          283,
          840,
          683,
          799,
          462,
          852,
          822,
          661,
          885,
          974,
          929,
          659,
          994,
          738,
          692,
          636,
          767,
          609,
          440,
          804,
          684,
          2889,
          1046,
          506,
          240,
          189,
          827,
          854,
          286,
          193,
          1171,
          5080,
          442,
          286,
          273,
          251,
          627,
          873,
          668,
          1099,
          849,
          1257,
          408,
          650,
          784,
          1016,
          918,
          691,
          716,
          1650,
          803,
          1979,
          684,
          321,
          646,
          176,
          771,
          782,
          700,
          164,
          730,
          677,
          1033,
          780,
          839,
          149,
          487,
          453,
          293,
          912,
          798,
          903,
          891,
          864,
          1429,
          906,
          1449,
          1223,
          716,
          1030,
          911,
          713,
          716,
          844,
          804,
          877,
          701,
          868,
          461,
          271,
          781,
          257,
          1120,
          833,
          399,
          1038,
          1222,
          869,
          742,
          512,
          779,
          757,
          911,
          731,
          732,
          950,
          627,
          793,
          867,
          743,
          711,
          1125,
          1018,
          433,
          739,
          731,
          903,
          714,
          1242,
          192,
          862,
          274,
          405,
          1158,
          764,
          661,
          736,
          650,
          967,
          688,
          793,
          896,
          1417,
          1113,
          931,
          696,
          648,
          869,
          769,
          675,
          464,
          373,
          1203,
          744,
          432,
          531,
          968,
          256,
          741,
          869,
          805,
          718,
          1083,
          720,
          758,
          650,
          627,
          1281,
          750,
          723,
          550,
          957,
          829,
          772,
          661,
          903,
          771,
          717,
          334,
          1110,
          751,
          689,
          714,
          477,
          650,
          1009,
          400,
          1093,
          672,
          1026,
          1255,
          798,
          764,
          795,
          407,
          684,
          717,
          755,
          280,
          637,
          622,
          1015,
          691,
          648,
          902,
          625,
          702,
          1211,
          764,
          636,
          993,
          2667,
          951,
          742,
          867,
          723,
          1274,
          974,
          734,
          1246,
          758,
          737,
          287,
          698,
          1210,
          724,
          1382,
          694,
          620,
          681,
          693,
          916,
          689,
          751,
          914,
          822,
          963,
          845,
          683,
          645,
          820,
          1099,
          727,
          724,
          401,
          647,
          951,
          807,
          866,
          533,
          701,
          936,
          989,
          981,
          774,
          1440,
          714,
          955,
          634,
          768,
          1297,
          855,
          1136,
          934,
          908,
          634,
          745,
          1240,
          250,
          793,
          1289,
          265,
          674,
          920,
          1225,
          788,
          1110,
          283,
          402,
          291,
          813,
          654,
          675,
          992,
          979,
          647,
          784,
          302,
          620,
          332,
          826,
          669,
          639,
          703,
          687,
          737,
          286,
          250,
          1051,
          832,
          918,
          683,
          950,
          729,
          1596,
          692,
          752,
          397,
          847,
          986,
          859,
          1515,
          683,
          345,
          813,
          1735,
          846,
          651,
          832,
          756,
          663,
          1091,
          651,
          869,
          921,
          433,
          1110,
          755,
          650,
          424,
          362,
          286,
          1031,
          921,
          685,
          797,
          665,
          758,
          809,
          711,
          1022,
          828,
          1053,
          796,
          358,
          676,
          890,
          925,
          799,
          1205,
          837,
          868,
          763,
          684,
          919,
          647,
          845,
          1136,
          824,
          706,
          1117,
          655,
          1513,
          915,
          797,
          433,
          1714,
          457,
          913,
          619,
          1049,
          879,
          740,
          735,
          644,
          669,
          639,
          743,
          743,
          928,
          777,
          539,
          1172,
          216,
          849,
          707,
          760,
          1220,
          1265,
          1392,
          641,
          715,
          1209,
          440,
          369,
          824,
          826,
          842,
          648,
          644,
          1529,
          406,
          156,
          276,
          816,
          940,
          968,
          988,
          710,
          730,
          457,
          1029,
          909,
          699,
          804,
          700,
          847,
          372,
          294,
          868,
          874,
          899,
          976,
          614,
          699,
          815,
          1961,
          648,
          768,
          891,
          980,
          430,
          956,
          817,
          467,
          637,
          702,
          915,
          751,
          752,
          1115,
          707,
          1306,
          849,
          647,
          599,
          773,
          1209,
          1566,
          1058,
          1163,
          1044,
          578,
          802,
          722,
          635,
          906,
          639,
          810,
          898,
          1085,
          386,
          652,
          1073,
          379,
          2579,
          1039,
          790,
          979,
          630,
          648,
          371,
          940,
          758,
          974,
          719,
          718,
          2449,
          1034,
          919,
          846,
          759,
          1068,
          774,
          291,
          759,
          824,
          810,
          808,
          653,
          1021,
          731,
          3459,
          699,
          926,
          837,
          697,
          203,
          425,
          795,
          848,
          639,
          863,
          650,
          859,
          647,
          743,
          671,
          831,
          867,
          718,
          271,
          709,
          452,
          681,
          747,
          686,
          773,
          1581,
          628,
          761,
          796,
          674,
          837,
          632,
          510,
          442,
          143,
          344,
          862,
          928,
          856,
          789,
          750,
          644,
          750,
          1147,
          899,
          857,
          465,
          681,
          753,
          685,
          1519,
          816,
          649,
          842,
          1046,
          651,
          1065,
          1407,
          737,
          706,
          982,
          909,
          616,
          1165,
          693,
          740,
          823,
          686,
          468,
          782,
          712,
          885,
          916,
          670,
          682,
          1047,
          1219,
          849,
          594,
          544,
          600,
          731,
          827,
          628,
          677,
          866,
          743,
          747,
          1186,
          739,
          655,
          1090,
          636,
          797,
          1825,
          994,
          1060,
          664,
          1200,
          708,
          992,
          694,
          233,
          449,
          1152,
          782,
          829,
          696,
          214,
          727,
          222,
          683,
          790,
          113,
          461,
          959,
          384,
          682,
          764,
          702,
          626,
          232,
          1522,
          922,
          1143,
          939,
          729,
          266,
          936,
          702,
          2540,
          573,
          1565,
          666,
          1196,
          351,
          932,
          678,
          274,
          956,
          622,
          953,
          3128,
          924,
          531,
          1009,
          689,
          1043,
          708,
          527,
          730,
          1009,
          870,
          654,
          611,
          815,
          779,
          682,
          822,
          614,
          1093,
          950,
          1048,
          670,
          711,
          454,
          1040,
          699,
          470,
          651,
          829,
          1556,
          780,
          784,
          1356,
          804,
          985,
          620,
          1277,
          428,
          870,
          1286,
          1258,
          773,
          1501,
          802,
          1152,
          844,
          656,
          3994,
          1063,
          1125,
          448,
          1135,
          781,
          801,
          736,
          240,
          853,
          1174,
          1062,
          707,
          963,
          236,
          724,
          727,
          328,
          877,
          892,
          356,
          852,
          1331,
          902,
          690,
          656,
          169,
          1386,
          741,
          298,
          741,
          835,
          716,
          468,
          1051,
          772,
          708,
          1170,
          811,
          1031,
          937,
          1124,
          745,
          1179,
          716,
          719,
          738,
          860,
          808,
          773,
          352,
          845,
          775,
          680,
          742,
          1480,
          604,
          1081,
          1284,
          722,
          744,
          887,
          634,
          860,
          1008,
          1353,
          253,
          846,
          771,
          1111,
          1492,
          864,
          1122,
          408,
          640,
          707,
          1048,
          601,
          619,
          1351,
          662,
          630,
          1369,
          657,
          893,
          730,
          1247,
          793,
          901,
          737,
          1314,
          960,
          664,
          894,
          719,
          815,
          659,
          490,
          631,
          777,
          683,
          592,
          2623,
          506,
          5190,
          805,
          1283,
          888,
          1060,
          707,
          654,
          664,
          722,
          807,
          739,
          658,
          800,
          816,
          614,
          827,
          778,
          368,
          591,
          1454,
          690,
          665,
          718,
          1939,
          742,
          941,
          481,
          735,
          549,
          1147,
          716,
          940,
          741,
          731,
          812,
          776,
          1323,
          652,
          389,
          229,
          899,
          247,
          406,
          780,
          741,
          730,
          1162,
          553,
          621,
          646,
          960,
          830,
          223,
          402,
          590,
          682,
          693,
          715,
          671,
          1157,
          708,
          1285,
          758,
          713,
          706,
          1285,
          778,
          858,
          914,
          1122,
          1121,
          726,
          701,
          763,
          633,
          614,
          761,
          1514,
          804,
          1344,
          990,
          1108,
          694,
          956,
          843,
          661,
          615,
          594,
          2101,
          899,
          1067,
          1402,
          873,
          404,
          733,
          868,
          596,
          850,
          877,
          855,
          1049,
          344,
          685,
          684,
          935,
          952,
          703,
          878,
          758,
          1039,
          1565,
          806,
          675,
          696,
          982,
          834,
          1284,
          772,
          795,
          669,
          871,
          635,
          910,
          688,
          1105,
          652,
          464,
          817,
          266,
          630,
          721,
          1725,
          722,
          416,
          689,
          675,
          634,
          761,
          1147,
          704,
          1032,
          978,
          872,
          750,
          700,
          446,
          615,
          316,
          699,
          938,
          921,
          703,
          675,
          670,
          851,
          453,
          258,
          1068,
          764,
          702,
          1004,
          672,
          516,
          267,
          1158,
          943,
          660,
          643,
          941,
          682,
          1311,
          714,
          585,
          1300,
          854,
          840,
          902,
          673,
          395,
          659,
          727,
          768,
          688,
          869,
          445,
          490,
          672,
          747,
          674,
          950,
          1168,
          626,
          1252,
          1134,
          639,
          897,
          1024,
          789,
          782,
          256,
          1090,
          770,
          1079,
          889,
          643,
          675,
          572,
          738,
          306,
          952,
          1480,
          172,
          1307,
          782,
          1367,
          675,
          934,
          657,
          692,
          1507,
          1231,
          627,
          662,
          631,
          744,
          984,
          688,
          664,
          844,
          439,
          795,
          480,
          298,
          1058,
          761,
          615,
          399,
          498,
          235,
          244,
          784,
          346,
          990,
          1325,
          931,
          813,
          791,
          1190,
          1127,
          1034,
          1128,
          372,
          603,
          806,
          947,
          366,
          754,
          371,
          1384,
          1032,
          794,
          704,
          1829,
          989,
          709,
          1208,
          929,
          943,
          743,
          680,
          723,
          767,
          846,
          851,
          865,
          681,
          761,
          1279,
          1264,
          988,
          837,
          1077,
          548,
          708,
          530,
          762,
          627,
          460,
          491,
          624,
          1334,
          379,
          415,
          695,
          343,
          656,
          323,
          812,
          796,
          1681,
          948,
          978,
          1208,
          790,
          641,
          626,
          825,
          884,
          821,
          790,
          232,
          750,
          808,
          436,
          783,
          644,
          774,
          605,
          906,
          818,
          1525,
          1209,
          223,
          1012,
          908,
          427,
          711,
          921,
          627,
          660,
          708,
          589,
          780,
          681,
          195,
          523,
          1348,
          927,
          710,
          832,
          1186,
          821,
          657,
          609,
          729,
          707,
          454,
          750,
          663,
          1331,
          253,
          680,
          202,
          301,
          595,
          976,
          839,
          890,
          1194,
          944,
          676,
          726,
          981,
          877,
          1798,
          713,
          742,
          1042,
          752,
          902,
          241,
          683,
          681
         ],
         "xaxis": "x",
         "yaxis": "y"
        }
       ],
       "layout": {
        "bargap": 0.2,
        "barmode": "relative",
        "legend": {
         "tracegroupgap": 0
        },
        "template": {
         "data": {
          "bar": [
           {
            "error_x": {
             "color": "#2a3f5f"
            },
            "error_y": {
             "color": "#2a3f5f"
            },
            "marker": {
             "line": {
              "color": "white",
              "width": 0.5
             },
             "pattern": {
              "fillmode": "overlay",
              "size": 10,
              "solidity": 0.2
             }
            },
            "type": "bar"
           }
          ],
          "barpolar": [
           {
            "marker": {
             "line": {
              "color": "white",
              "width": 0.5
             },
             "pattern": {
              "fillmode": "overlay",
              "size": 10,
              "solidity": 0.2
             }
            },
            "type": "barpolar"
           }
          ],
          "carpet": [
           {
            "aaxis": {
             "endlinecolor": "#2a3f5f",
             "gridcolor": "#C8D4E3",
             "linecolor": "#C8D4E3",
             "minorgridcolor": "#C8D4E3",
             "startlinecolor": "#2a3f5f"
            },
            "baxis": {
             "endlinecolor": "#2a3f5f",
             "gridcolor": "#C8D4E3",
             "linecolor": "#C8D4E3",
             "minorgridcolor": "#C8D4E3",
             "startlinecolor": "#2a3f5f"
            },
            "type": "carpet"
           }
          ],
          "choropleth": [
           {
            "colorbar": {
             "outlinewidth": 0,
             "ticks": ""
            },
            "type": "choropleth"
           }
          ],
          "contour": [
           {
            "colorbar": {
             "outlinewidth": 0,
             "ticks": ""
            },
            "colorscale": [
             [
              0,
              "#0d0887"
             ],
             [
              0.1111111111111111,
              "#46039f"
             ],
             [
              0.2222222222222222,
              "#7201a8"
             ],
             [
              0.3333333333333333,
              "#9c179e"
             ],
             [
              0.4444444444444444,
              "#bd3786"
             ],
             [
              0.5555555555555556,
              "#d8576b"
             ],
             [
              0.6666666666666666,
              "#ed7953"
             ],
             [
              0.7777777777777778,
              "#fb9f3a"
             ],
             [
              0.8888888888888888,
              "#fdca26"
             ],
             [
              1,
              "#f0f921"
             ]
            ],
            "type": "contour"
           }
          ],
          "contourcarpet": [
           {
            "colorbar": {
             "outlinewidth": 0,
             "ticks": ""
            },
            "type": "contourcarpet"
           }
          ],
          "heatmap": [
           {
            "colorbar": {
             "outlinewidth": 0,
             "ticks": ""
            },
            "colorscale": [
             [
              0,
              "#0d0887"
             ],
             [
              0.1111111111111111,
              "#46039f"
             ],
             [
              0.2222222222222222,
              "#7201a8"
             ],
             [
              0.3333333333333333,
              "#9c179e"
             ],
             [
              0.4444444444444444,
              "#bd3786"
             ],
             [
              0.5555555555555556,
              "#d8576b"
             ],
             [
              0.6666666666666666,
              "#ed7953"
             ],
             [
              0.7777777777777778,
              "#fb9f3a"
             ],
             [
              0.8888888888888888,
              "#fdca26"
             ],
             [
              1,
              "#f0f921"
             ]
            ],
            "type": "heatmap"
           }
          ],
          "heatmapgl": [
           {
            "colorbar": {
             "outlinewidth": 0,
             "ticks": ""
            },
            "colorscale": [
             [
              0,
              "#0d0887"
             ],
             [
              0.1111111111111111,
              "#46039f"
             ],
             [
              0.2222222222222222,
              "#7201a8"
             ],
             [
              0.3333333333333333,
              "#9c179e"
             ],
             [
              0.4444444444444444,
              "#bd3786"
             ],
             [
              0.5555555555555556,
              "#d8576b"
             ],
             [
              0.6666666666666666,
              "#ed7953"
             ],
             [
              0.7777777777777778,
              "#fb9f3a"
             ],
             [
              0.8888888888888888,
              "#fdca26"
             ],
             [
              1,
              "#f0f921"
             ]
            ],
            "type": "heatmapgl"
           }
          ],
          "histogram": [
           {
            "marker": {
             "pattern": {
              "fillmode": "overlay",
              "size": 10,
              "solidity": 0.2
             }
            },
            "type": "histogram"
           }
          ],
          "histogram2d": [
           {
            "colorbar": {
             "outlinewidth": 0,
             "ticks": ""
            },
            "colorscale": [
             [
              0,
              "#0d0887"
             ],
             [
              0.1111111111111111,
              "#46039f"
             ],
             [
              0.2222222222222222,
              "#7201a8"
             ],
             [
              0.3333333333333333,
              "#9c179e"
             ],
             [
              0.4444444444444444,
              "#bd3786"
             ],
             [
              0.5555555555555556,
              "#d8576b"
             ],
             [
              0.6666666666666666,
              "#ed7953"
             ],
             [
              0.7777777777777778,
              "#fb9f3a"
             ],
             [
              0.8888888888888888,
              "#fdca26"
             ],
             [
              1,
              "#f0f921"
             ]
            ],
            "type": "histogram2d"
           }
          ],
          "histogram2dcontour": [
           {
            "colorbar": {
             "outlinewidth": 0,
             "ticks": ""
            },
            "colorscale": [
             [
              0,
              "#0d0887"
             ],
             [
              0.1111111111111111,
              "#46039f"
             ],
             [
              0.2222222222222222,
              "#7201a8"
             ],
             [
              0.3333333333333333,
              "#9c179e"
             ],
             [
              0.4444444444444444,
              "#bd3786"
             ],
             [
              0.5555555555555556,
              "#d8576b"
             ],
             [
              0.6666666666666666,
              "#ed7953"
             ],
             [
              0.7777777777777778,
              "#fb9f3a"
             ],
             [
              0.8888888888888888,
              "#fdca26"
             ],
             [
              1,
              "#f0f921"
             ]
            ],
            "type": "histogram2dcontour"
           }
          ],
          "mesh3d": [
           {
            "colorbar": {
             "outlinewidth": 0,
             "ticks": ""
            },
            "type": "mesh3d"
           }
          ],
          "parcoords": [
           {
            "line": {
             "colorbar": {
              "outlinewidth": 0,
              "ticks": ""
             }
            },
            "type": "parcoords"
           }
          ],
          "pie": [
           {
            "automargin": true,
            "type": "pie"
           }
          ],
          "scatter": [
           {
            "fillpattern": {
             "fillmode": "overlay",
             "size": 10,
             "solidity": 0.2
            },
            "type": "scatter"
           }
          ],
          "scatter3d": [
           {
            "line": {
             "colorbar": {
              "outlinewidth": 0,
              "ticks": ""
             }
            },
            "marker": {
             "colorbar": {
              "outlinewidth": 0,
              "ticks": ""
             }
            },
            "type": "scatter3d"
           }
          ],
          "scattercarpet": [
           {
            "marker": {
             "colorbar": {
              "outlinewidth": 0,
              "ticks": ""
             }
            },
            "type": "scattercarpet"
           }
          ],
          "scattergeo": [
           {
            "marker": {
             "colorbar": {
              "outlinewidth": 0,
              "ticks": ""
             }
            },
            "type": "scattergeo"
           }
          ],
          "scattergl": [
           {
            "marker": {
             "colorbar": {
              "outlinewidth": 0,
              "ticks": ""
             }
            },
            "type": "scattergl"
           }
          ],
          "scattermapbox": [
           {
            "marker": {
             "colorbar": {
              "outlinewidth": 0,
              "ticks": ""
             }
            },
            "type": "scattermapbox"
           }
          ],
          "scatterpolar": [
           {
            "marker": {
             "colorbar": {
              "outlinewidth": 0,
              "ticks": ""
             }
            },
            "type": "scatterpolar"
           }
          ],
          "scatterpolargl": [
           {
            "marker": {
             "colorbar": {
              "outlinewidth": 0,
              "ticks": ""
             }
            },
            "type": "scatterpolargl"
           }
          ],
          "scatterternary": [
           {
            "marker": {
             "colorbar": {
              "outlinewidth": 0,
              "ticks": ""
             }
            },
            "type": "scatterternary"
           }
          ],
          "surface": [
           {
            "colorbar": {
             "outlinewidth": 0,
             "ticks": ""
            },
            "colorscale": [
             [
              0,
              "#0d0887"
             ],
             [
              0.1111111111111111,
              "#46039f"
             ],
             [
              0.2222222222222222,
              "#7201a8"
             ],
             [
              0.3333333333333333,
              "#9c179e"
             ],
             [
              0.4444444444444444,
              "#bd3786"
             ],
             [
              0.5555555555555556,
              "#d8576b"
             ],
             [
              0.6666666666666666,
              "#ed7953"
             ],
             [
              0.7777777777777778,
              "#fb9f3a"
             ],
             [
              0.8888888888888888,
              "#fdca26"
             ],
             [
              1,
              "#f0f921"
             ]
            ],
            "type": "surface"
           }
          ],
          "table": [
           {
            "cells": {
             "fill": {
              "color": "#EBF0F8"
             },
             "line": {
              "color": "white"
             }
            },
            "header": {
             "fill": {
              "color": "#C8D4E3"
             },
             "line": {
              "color": "white"
             }
            },
            "type": "table"
           }
          ]
         },
         "layout": {
          "annotationdefaults": {
           "arrowcolor": "#2a3f5f",
           "arrowhead": 0,
           "arrowwidth": 1
          },
          "autotypenumbers": "strict",
          "coloraxis": {
           "colorbar": {
            "outlinewidth": 0,
            "ticks": ""
           }
          },
          "colorscale": {
           "diverging": [
            [
             0,
             "#8e0152"
            ],
            [
             0.1,
             "#c51b7d"
            ],
            [
             0.2,
             "#de77ae"
            ],
            [
             0.3,
             "#f1b6da"
            ],
            [
             0.4,
             "#fde0ef"
            ],
            [
             0.5,
             "#f7f7f7"
            ],
            [
             0.6,
             "#e6f5d0"
            ],
            [
             0.7,
             "#b8e186"
            ],
            [
             0.8,
             "#7fbc41"
            ],
            [
             0.9,
             "#4d9221"
            ],
            [
             1,
             "#276419"
            ]
           ],
           "sequential": [
            [
             0,
             "#0d0887"
            ],
            [
             0.1111111111111111,
             "#46039f"
            ],
            [
             0.2222222222222222,
             "#7201a8"
            ],
            [
             0.3333333333333333,
             "#9c179e"
            ],
            [
             0.4444444444444444,
             "#bd3786"
            ],
            [
             0.5555555555555556,
             "#d8576b"
            ],
            [
             0.6666666666666666,
             "#ed7953"
            ],
            [
             0.7777777777777778,
             "#fb9f3a"
            ],
            [
             0.8888888888888888,
             "#fdca26"
            ],
            [
             1,
             "#f0f921"
            ]
           ],
           "sequentialminus": [
            [
             0,
             "#0d0887"
            ],
            [
             0.1111111111111111,
             "#46039f"
            ],
            [
             0.2222222222222222,
             "#7201a8"
            ],
            [
             0.3333333333333333,
             "#9c179e"
            ],
            [
             0.4444444444444444,
             "#bd3786"
            ],
            [
             0.5555555555555556,
             "#d8576b"
            ],
            [
             0.6666666666666666,
             "#ed7953"
            ],
            [
             0.7777777777777778,
             "#fb9f3a"
            ],
            [
             0.8888888888888888,
             "#fdca26"
            ],
            [
             1,
             "#f0f921"
            ]
           ]
          },
          "colorway": [
           "#636efa",
           "#EF553B",
           "#00cc96",
           "#ab63fa",
           "#FFA15A",
           "#19d3f3",
           "#FF6692",
           "#B6E880",
           "#FF97FF",
           "#FECB52"
          ],
          "font": {
           "color": "#2a3f5f"
          },
          "geo": {
           "bgcolor": "white",
           "lakecolor": "white",
           "landcolor": "white",
           "showlakes": true,
           "showland": true,
           "subunitcolor": "#C8D4E3"
          },
          "hoverlabel": {
           "align": "left"
          },
          "hovermode": "closest",
          "mapbox": {
           "style": "light"
          },
          "paper_bgcolor": "white",
          "plot_bgcolor": "white",
          "polar": {
           "angularaxis": {
            "gridcolor": "#EBF0F8",
            "linecolor": "#EBF0F8",
            "ticks": ""
           },
           "bgcolor": "white",
           "radialaxis": {
            "gridcolor": "#EBF0F8",
            "linecolor": "#EBF0F8",
            "ticks": ""
           }
          },
          "scene": {
           "xaxis": {
            "backgroundcolor": "white",
            "gridcolor": "#DFE8F3",
            "gridwidth": 2,
            "linecolor": "#EBF0F8",
            "showbackground": true,
            "ticks": "",
            "zerolinecolor": "#EBF0F8"
           },
           "yaxis": {
            "backgroundcolor": "white",
            "gridcolor": "#DFE8F3",
            "gridwidth": 2,
            "linecolor": "#EBF0F8",
            "showbackground": true,
            "ticks": "",
            "zerolinecolor": "#EBF0F8"
           },
           "zaxis": {
            "backgroundcolor": "white",
            "gridcolor": "#DFE8F3",
            "gridwidth": 2,
            "linecolor": "#EBF0F8",
            "showbackground": true,
            "ticks": "",
            "zerolinecolor": "#EBF0F8"
           }
          },
          "shapedefaults": {
           "line": {
            "color": "#2a3f5f"
           }
          },
          "ternary": {
           "aaxis": {
            "gridcolor": "#DFE8F3",
            "linecolor": "#A2B1C6",
            "ticks": ""
           },
           "baxis": {
            "gridcolor": "#DFE8F3",
            "linecolor": "#A2B1C6",
            "ticks": ""
           },
           "bgcolor": "white",
           "caxis": {
            "gridcolor": "#DFE8F3",
            "linecolor": "#A2B1C6",
            "ticks": ""
           }
          },
          "title": {
           "x": 0.05
          },
          "xaxis": {
           "automargin": true,
           "gridcolor": "#EBF0F8",
           "linecolor": "#EBF0F8",
           "ticks": "",
           "title": {
            "standoff": 15
           },
           "zerolinecolor": "#EBF0F8",
           "zerolinewidth": 2
          },
          "yaxis": {
           "automargin": true,
           "gridcolor": "#EBF0F8",
           "linecolor": "#EBF0F8",
           "ticks": "",
           "title": {
            "standoff": 15
           },
           "zerolinecolor": "#EBF0F8",
           "zerolinewidth": 2
          }
         }
        },
        "title": {
         "text": "Distribution of Resume Lengths"
        },
        "xaxis": {
         "anchor": "y",
         "domain": [
          0,
          1
         ],
         "title": {
          "text": "Resume Length"
         }
        },
        "yaxis": {
         "anchor": "x",
         "domain": [
          0,
          1
         ],
         "title": {
          "text": "Frequency"
         }
        }
       }
      }
     },
     "metadata": {},
     "output_type": "display_data"
    }
   ],
   "source": [
    "import plotly.express as px\n",
    "import pandas as pd\n",
    "\n",
    "# Example: Generate 'resumes' DataFrame (use your actual data)\n",
    "# resumes = pd.DataFrame({'Resume_str': [...]})\n",
    "\n",
    "# Calculate resume lengths\n",
    "resumes['resume_length'] = resumes['Resume_str'].apply(lambda x: len(x.split()))\n",
    "\n",
    "# Create the interactive histogram using Plotly\n",
    "fig = px.histogram(\n",
    "    resumes,\n",
    "    x='resume_length',\n",
    "    nbins=30,\n",
    "    title='Distribution of Resume Lengths',\n",
    "    labels={'resume_length': 'Resume Length'},\n",
    "    color_discrete_sequence=['skyblue']\n",
    ")\n",
    "\n",
    "# Customize the layout\n",
    "fig.update_layout(\n",
    "    xaxis_title='Resume Length',\n",
    "    yaxis_title='Frequency',\n",
    "    bargap=0.2,\n",
    "    template='plotly_white'\n",
    ")\n",
    "\n",
    "# Show the interactive plot\n",
    "fig.show()\n",
    "\n"
   ]
  },
  {
   "cell_type": "code",
   "execution_count": 4,
   "metadata": {},
   "outputs": [
    {
     "data": {
      "application/vnd.plotly.v1+json": {
       "config": {
        "plotlyServerURL": "https://plot.ly"
       },
       "data": [
        {
         "alignmentgroup": "True",
         "hovertemplate": "Resume Category=%{x}<br>Average Resume Length=%{marker.color:.2f}<extra></extra>",
         "legendgroup": "",
         "marker": {
          "color": [
           689.7672413793103,
           715.2843137254902,
           723.034188034188,
           734.9719626168225,
           774.9417475728155,
           775.025,
           780.6494845360825,
           791.1965811965812,
           792.2395833333334,
           797.0084745762712,
           800.0084745762712,
           803.4956521739131,
           808.1944444444445,
           811.7627118644068,
           837.5508474576271,
           848.5,
           852.7142857142857,
           853.7272727272727,
           856.2857142857143,
           879.704347826087,
           881.7739130434783,
           889.3153153153153,
           926.5833333333334,
           974.2272727272727
          ],
          "coloraxis": "coloraxis",
          "pattern": {
           "shape": ""
          }
         },
         "name": "",
         "offsetgroup": "",
         "orientation": "v",
         "showlegend": false,
         "textposition": "auto",
         "type": "bar",
         "x": [
          "SALES",
          "TEACHER",
          "FITNESS",
          "DESIGNER",
          "ARTS",
          "BUSINESS-DEVELOPMENT",
          "APPAREL",
          "AVIATION",
          "DIGITAL-MEDIA",
          "CHEF",
          "ACCOUNTANT",
          "BANKING",
          "AUTOMOBILE",
          "FINANCE",
          "ENGINEERING",
          "ADVOCATE",
          "CONSTRUCTION",
          "HR",
          "AGRICULTURE",
          "CONSULTANT",
          "HEALTHCARE",
          "PUBLIC-RELATIONS",
          "INFORMATION-TECHNOLOGY",
          "BPO"
         ],
         "xaxis": "x",
         "y": [
          689.7672413793103,
          715.2843137254902,
          723.034188034188,
          734.9719626168225,
          774.9417475728155,
          775.025,
          780.6494845360825,
          791.1965811965812,
          792.2395833333334,
          797.0084745762712,
          800.0084745762712,
          803.4956521739131,
          808.1944444444445,
          811.7627118644068,
          837.5508474576271,
          848.5,
          852.7142857142857,
          853.7272727272727,
          856.2857142857143,
          879.704347826087,
          881.7739130434783,
          889.3153153153153,
          926.5833333333334,
          974.2272727272727
         ],
         "yaxis": "y"
        }
       ],
       "layout": {
        "barmode": "relative",
        "coloraxis": {
         "colorbar": {
          "title": {
           "text": "Average Resume Length"
          }
         },
         "colorscale": [
          [
           0,
           "#0d0887"
          ],
          [
           0.1111111111111111,
           "#46039f"
          ],
          [
           0.2222222222222222,
           "#7201a8"
          ],
          [
           0.3333333333333333,
           "#9c179e"
          ],
          [
           0.4444444444444444,
           "#bd3786"
          ],
          [
           0.5555555555555556,
           "#d8576b"
          ],
          [
           0.6666666666666666,
           "#ed7953"
          ],
          [
           0.7777777777777778,
           "#fb9f3a"
          ],
          [
           0.8888888888888888,
           "#fdca26"
          ],
          [
           1,
           "#f0f921"
          ]
         ]
        },
        "legend": {
         "tracegroupgap": 0
        },
        "template": {
         "data": {
          "bar": [
           {
            "error_x": {
             "color": "#2a3f5f"
            },
            "error_y": {
             "color": "#2a3f5f"
            },
            "marker": {
             "line": {
              "color": "#E5ECF6",
              "width": 0.5
             },
             "pattern": {
              "fillmode": "overlay",
              "size": 10,
              "solidity": 0.2
             }
            },
            "type": "bar"
           }
          ],
          "barpolar": [
           {
            "marker": {
             "line": {
              "color": "#E5ECF6",
              "width": 0.5
             },
             "pattern": {
              "fillmode": "overlay",
              "size": 10,
              "solidity": 0.2
             }
            },
            "type": "barpolar"
           }
          ],
          "carpet": [
           {
            "aaxis": {
             "endlinecolor": "#2a3f5f",
             "gridcolor": "white",
             "linecolor": "white",
             "minorgridcolor": "white",
             "startlinecolor": "#2a3f5f"
            },
            "baxis": {
             "endlinecolor": "#2a3f5f",
             "gridcolor": "white",
             "linecolor": "white",
             "minorgridcolor": "white",
             "startlinecolor": "#2a3f5f"
            },
            "type": "carpet"
           }
          ],
          "choropleth": [
           {
            "colorbar": {
             "outlinewidth": 0,
             "ticks": ""
            },
            "type": "choropleth"
           }
          ],
          "contour": [
           {
            "colorbar": {
             "outlinewidth": 0,
             "ticks": ""
            },
            "colorscale": [
             [
              0,
              "#0d0887"
             ],
             [
              0.1111111111111111,
              "#46039f"
             ],
             [
              0.2222222222222222,
              "#7201a8"
             ],
             [
              0.3333333333333333,
              "#9c179e"
             ],
             [
              0.4444444444444444,
              "#bd3786"
             ],
             [
              0.5555555555555556,
              "#d8576b"
             ],
             [
              0.6666666666666666,
              "#ed7953"
             ],
             [
              0.7777777777777778,
              "#fb9f3a"
             ],
             [
              0.8888888888888888,
              "#fdca26"
             ],
             [
              1,
              "#f0f921"
             ]
            ],
            "type": "contour"
           }
          ],
          "contourcarpet": [
           {
            "colorbar": {
             "outlinewidth": 0,
             "ticks": ""
            },
            "type": "contourcarpet"
           }
          ],
          "heatmap": [
           {
            "colorbar": {
             "outlinewidth": 0,
             "ticks": ""
            },
            "colorscale": [
             [
              0,
              "#0d0887"
             ],
             [
              0.1111111111111111,
              "#46039f"
             ],
             [
              0.2222222222222222,
              "#7201a8"
             ],
             [
              0.3333333333333333,
              "#9c179e"
             ],
             [
              0.4444444444444444,
              "#bd3786"
             ],
             [
              0.5555555555555556,
              "#d8576b"
             ],
             [
              0.6666666666666666,
              "#ed7953"
             ],
             [
              0.7777777777777778,
              "#fb9f3a"
             ],
             [
              0.8888888888888888,
              "#fdca26"
             ],
             [
              1,
              "#f0f921"
             ]
            ],
            "type": "heatmap"
           }
          ],
          "heatmapgl": [
           {
            "colorbar": {
             "outlinewidth": 0,
             "ticks": ""
            },
            "colorscale": [
             [
              0,
              "#0d0887"
             ],
             [
              0.1111111111111111,
              "#46039f"
             ],
             [
              0.2222222222222222,
              "#7201a8"
             ],
             [
              0.3333333333333333,
              "#9c179e"
             ],
             [
              0.4444444444444444,
              "#bd3786"
             ],
             [
              0.5555555555555556,
              "#d8576b"
             ],
             [
              0.6666666666666666,
              "#ed7953"
             ],
             [
              0.7777777777777778,
              "#fb9f3a"
             ],
             [
              0.8888888888888888,
              "#fdca26"
             ],
             [
              1,
              "#f0f921"
             ]
            ],
            "type": "heatmapgl"
           }
          ],
          "histogram": [
           {
            "marker": {
             "pattern": {
              "fillmode": "overlay",
              "size": 10,
              "solidity": 0.2
             }
            },
            "type": "histogram"
           }
          ],
          "histogram2d": [
           {
            "colorbar": {
             "outlinewidth": 0,
             "ticks": ""
            },
            "colorscale": [
             [
              0,
              "#0d0887"
             ],
             [
              0.1111111111111111,
              "#46039f"
             ],
             [
              0.2222222222222222,
              "#7201a8"
             ],
             [
              0.3333333333333333,
              "#9c179e"
             ],
             [
              0.4444444444444444,
              "#bd3786"
             ],
             [
              0.5555555555555556,
              "#d8576b"
             ],
             [
              0.6666666666666666,
              "#ed7953"
             ],
             [
              0.7777777777777778,
              "#fb9f3a"
             ],
             [
              0.8888888888888888,
              "#fdca26"
             ],
             [
              1,
              "#f0f921"
             ]
            ],
            "type": "histogram2d"
           }
          ],
          "histogram2dcontour": [
           {
            "colorbar": {
             "outlinewidth": 0,
             "ticks": ""
            },
            "colorscale": [
             [
              0,
              "#0d0887"
             ],
             [
              0.1111111111111111,
              "#46039f"
             ],
             [
              0.2222222222222222,
              "#7201a8"
             ],
             [
              0.3333333333333333,
              "#9c179e"
             ],
             [
              0.4444444444444444,
              "#bd3786"
             ],
             [
              0.5555555555555556,
              "#d8576b"
             ],
             [
              0.6666666666666666,
              "#ed7953"
             ],
             [
              0.7777777777777778,
              "#fb9f3a"
             ],
             [
              0.8888888888888888,
              "#fdca26"
             ],
             [
              1,
              "#f0f921"
             ]
            ],
            "type": "histogram2dcontour"
           }
          ],
          "mesh3d": [
           {
            "colorbar": {
             "outlinewidth": 0,
             "ticks": ""
            },
            "type": "mesh3d"
           }
          ],
          "parcoords": [
           {
            "line": {
             "colorbar": {
              "outlinewidth": 0,
              "ticks": ""
             }
            },
            "type": "parcoords"
           }
          ],
          "pie": [
           {
            "automargin": true,
            "type": "pie"
           }
          ],
          "scatter": [
           {
            "fillpattern": {
             "fillmode": "overlay",
             "size": 10,
             "solidity": 0.2
            },
            "type": "scatter"
           }
          ],
          "scatter3d": [
           {
            "line": {
             "colorbar": {
              "outlinewidth": 0,
              "ticks": ""
             }
            },
            "marker": {
             "colorbar": {
              "outlinewidth": 0,
              "ticks": ""
             }
            },
            "type": "scatter3d"
           }
          ],
          "scattercarpet": [
           {
            "marker": {
             "colorbar": {
              "outlinewidth": 0,
              "ticks": ""
             }
            },
            "type": "scattercarpet"
           }
          ],
          "scattergeo": [
           {
            "marker": {
             "colorbar": {
              "outlinewidth": 0,
              "ticks": ""
             }
            },
            "type": "scattergeo"
           }
          ],
          "scattergl": [
           {
            "marker": {
             "colorbar": {
              "outlinewidth": 0,
              "ticks": ""
             }
            },
            "type": "scattergl"
           }
          ],
          "scattermapbox": [
           {
            "marker": {
             "colorbar": {
              "outlinewidth": 0,
              "ticks": ""
             }
            },
            "type": "scattermapbox"
           }
          ],
          "scatterpolar": [
           {
            "marker": {
             "colorbar": {
              "outlinewidth": 0,
              "ticks": ""
             }
            },
            "type": "scatterpolar"
           }
          ],
          "scatterpolargl": [
           {
            "marker": {
             "colorbar": {
              "outlinewidth": 0,
              "ticks": ""
             }
            },
            "type": "scatterpolargl"
           }
          ],
          "scatterternary": [
           {
            "marker": {
             "colorbar": {
              "outlinewidth": 0,
              "ticks": ""
             }
            },
            "type": "scatterternary"
           }
          ],
          "surface": [
           {
            "colorbar": {
             "outlinewidth": 0,
             "ticks": ""
            },
            "colorscale": [
             [
              0,
              "#0d0887"
             ],
             [
              0.1111111111111111,
              "#46039f"
             ],
             [
              0.2222222222222222,
              "#7201a8"
             ],
             [
              0.3333333333333333,
              "#9c179e"
             ],
             [
              0.4444444444444444,
              "#bd3786"
             ],
             [
              0.5555555555555556,
              "#d8576b"
             ],
             [
              0.6666666666666666,
              "#ed7953"
             ],
             [
              0.7777777777777778,
              "#fb9f3a"
             ],
             [
              0.8888888888888888,
              "#fdca26"
             ],
             [
              1,
              "#f0f921"
             ]
            ],
            "type": "surface"
           }
          ],
          "table": [
           {
            "cells": {
             "fill": {
              "color": "#EBF0F8"
             },
             "line": {
              "color": "white"
             }
            },
            "header": {
             "fill": {
              "color": "#C8D4E3"
             },
             "line": {
              "color": "white"
             }
            },
            "type": "table"
           }
          ]
         },
         "layout": {
          "annotationdefaults": {
           "arrowcolor": "#2a3f5f",
           "arrowhead": 0,
           "arrowwidth": 1
          },
          "autotypenumbers": "strict",
          "coloraxis": {
           "colorbar": {
            "outlinewidth": 0,
            "ticks": ""
           }
          },
          "colorscale": {
           "diverging": [
            [
             0,
             "#8e0152"
            ],
            [
             0.1,
             "#c51b7d"
            ],
            [
             0.2,
             "#de77ae"
            ],
            [
             0.3,
             "#f1b6da"
            ],
            [
             0.4,
             "#fde0ef"
            ],
            [
             0.5,
             "#f7f7f7"
            ],
            [
             0.6,
             "#e6f5d0"
            ],
            [
             0.7,
             "#b8e186"
            ],
            [
             0.8,
             "#7fbc41"
            ],
            [
             0.9,
             "#4d9221"
            ],
            [
             1,
             "#276419"
            ]
           ],
           "sequential": [
            [
             0,
             "#0d0887"
            ],
            [
             0.1111111111111111,
             "#46039f"
            ],
            [
             0.2222222222222222,
             "#7201a8"
            ],
            [
             0.3333333333333333,
             "#9c179e"
            ],
            [
             0.4444444444444444,
             "#bd3786"
            ],
            [
             0.5555555555555556,
             "#d8576b"
            ],
            [
             0.6666666666666666,
             "#ed7953"
            ],
            [
             0.7777777777777778,
             "#fb9f3a"
            ],
            [
             0.8888888888888888,
             "#fdca26"
            ],
            [
             1,
             "#f0f921"
            ]
           ],
           "sequentialminus": [
            [
             0,
             "#0d0887"
            ],
            [
             0.1111111111111111,
             "#46039f"
            ],
            [
             0.2222222222222222,
             "#7201a8"
            ],
            [
             0.3333333333333333,
             "#9c179e"
            ],
            [
             0.4444444444444444,
             "#bd3786"
            ],
            [
             0.5555555555555556,
             "#d8576b"
            ],
            [
             0.6666666666666666,
             "#ed7953"
            ],
            [
             0.7777777777777778,
             "#fb9f3a"
            ],
            [
             0.8888888888888888,
             "#fdca26"
            ],
            [
             1,
             "#f0f921"
            ]
           ]
          },
          "colorway": [
           "#636efa",
           "#EF553B",
           "#00cc96",
           "#ab63fa",
           "#FFA15A",
           "#19d3f3",
           "#FF6692",
           "#B6E880",
           "#FF97FF",
           "#FECB52"
          ],
          "font": {
           "color": "#2a3f5f"
          },
          "geo": {
           "bgcolor": "white",
           "lakecolor": "white",
           "landcolor": "#E5ECF6",
           "showlakes": true,
           "showland": true,
           "subunitcolor": "white"
          },
          "hoverlabel": {
           "align": "left"
          },
          "hovermode": "closest",
          "mapbox": {
           "style": "light"
          },
          "paper_bgcolor": "white",
          "plot_bgcolor": "#E5ECF6",
          "polar": {
           "angularaxis": {
            "gridcolor": "white",
            "linecolor": "white",
            "ticks": ""
           },
           "bgcolor": "#E5ECF6",
           "radialaxis": {
            "gridcolor": "white",
            "linecolor": "white",
            "ticks": ""
           }
          },
          "scene": {
           "xaxis": {
            "backgroundcolor": "#E5ECF6",
            "gridcolor": "white",
            "gridwidth": 2,
            "linecolor": "white",
            "showbackground": true,
            "ticks": "",
            "zerolinecolor": "white"
           },
           "yaxis": {
            "backgroundcolor": "#E5ECF6",
            "gridcolor": "white",
            "gridwidth": 2,
            "linecolor": "white",
            "showbackground": true,
            "ticks": "",
            "zerolinecolor": "white"
           },
           "zaxis": {
            "backgroundcolor": "#E5ECF6",
            "gridcolor": "white",
            "gridwidth": 2,
            "linecolor": "white",
            "showbackground": true,
            "ticks": "",
            "zerolinecolor": "white"
           }
          },
          "shapedefaults": {
           "line": {
            "color": "#2a3f5f"
           }
          },
          "ternary": {
           "aaxis": {
            "gridcolor": "white",
            "linecolor": "white",
            "ticks": ""
           },
           "baxis": {
            "gridcolor": "white",
            "linecolor": "white",
            "ticks": ""
           },
           "bgcolor": "#E5ECF6",
           "caxis": {
            "gridcolor": "white",
            "linecolor": "white",
            "ticks": ""
           }
          },
          "title": {
           "x": 0.05
          },
          "xaxis": {
           "automargin": true,
           "gridcolor": "white",
           "linecolor": "white",
           "ticks": "",
           "title": {
            "standoff": 15
           },
           "zerolinecolor": "white",
           "zerolinewidth": 2
          },
          "yaxis": {
           "automargin": true,
           "gridcolor": "white",
           "linecolor": "white",
           "ticks": "",
           "title": {
            "standoff": 15
           },
           "zerolinecolor": "white",
           "zerolinewidth": 2
          }
         }
        },
        "title": {
         "text": "Average Resume Length by Category"
        },
        "xaxis": {
         "anchor": "y",
         "domain": [
          0,
          1
         ],
         "tickangle": 45,
         "title": {
          "text": "Resume Category"
         }
        },
        "yaxis": {
         "anchor": "x",
         "domain": [
          0,
          1
         ],
         "title": {
          "text": "Average Resume Length"
         }
        }
       }
      }
     },
     "metadata": {},
     "output_type": "display_data"
    }
   ],
   "source": [
    "import plotly.express as px\n",
    "import pandas as pd\n",
    "\n",
    "# Calculate average resume lengths by category\n",
    "resumes['resume_length'] = resumes['Resume_str'].apply(lambda x: len(x.split()))\n",
    "average_lengths = resumes.groupby('Category')['resume_length'].mean().sort_values()\n",
    "\n",
    "# Create a DataFrame for plotting\n",
    "average_lengths_df = average_lengths.reset_index()\n",
    "\n",
    "# Create an interactive bar plot using Plotly\n",
    "fig = px.bar(\n",
    "    average_lengths_df,\n",
    "    x='Category',\n",
    "    y='resume_length',\n",
    "    title='Average Resume Length by Category',\n",
    "    labels={'resume_length': 'Average Resume Length', 'Category': 'Resume Category'},\n",
    "    color='resume_length',\n",
    "    hover_data={'resume_length': ':.2f'},  # Show hover details with 2 decimal precision\n",
    ")\n",
    "\n",
    "# Customize the layout\n",
    "fig.update_layout(\n",
    "    xaxis_title='Resume Category',\n",
    "    yaxis_title='Average Resume Length',\n",
    "    xaxis_tickangle=45\n",
    ")\n",
    "\n",
    "# Show the interactive plot\n",
    "fig.show()\n"
   ]
  },
  {
   "cell_type": "code",
   "execution_count": 27,
   "metadata": {},
   "outputs": [
    {
     "name": "stdout",
     "output_type": "stream",
     "text": [
      "         HR ADMINISTRATOR/MARKETING ASSOCIATE\n",
      "\n",
      "HR ADMINISTRATOR       Summary     Dedicated Customer Service Manager with 15+ years of experience in Hospitality and Customer Service Management.   Respected builder and leader of customer-focused teams; strives to instill a shared, enthusiastic commitment to customer service.         Highlights         Focused on customer satisfaction  Team management  Marketing savvy  Conflict resolution techniques     Training and development  Skilled multi-tasker  Client relations specialist           Accomplishments      Missouri DOT Supervisor Training Certification  Certified by IHG in Customer Loyalty and Marketing by Segment   Hilton Worldwide General Manager Training Certification  Accomplished Trainer for cross server hospitality systems such as    Hilton OnQ  ,   Micros    Opera PMS   , Fidelio    OPERA    Reservation System (ORS) ,   Holidex    Completed courses and seminars in customer service, sales strategies, inventory control, loss prevention, safety, time management, leadership and performance assessment.        Experience      HR Administrator/Marketing Associate\n",
      "\n",
      "HR Administrator     Dec 2013   to   Current      Company Name   －   City  ,   State     Helps to develop policies, directs and coordinates activities such as employment, compensation, labor relations, benefits, training, and employee services.  Prepares employee separation notices and related documentation  Keeps records of benefits plans participation such as insurance and pension plan, personnel transactions such as hires, promotions, transfers, performance reviews, and terminations, and employee statistics for government reporting.  Advises management in appropriate resolution of employee relations issues.  Administers benefits programs such as life, health, dental, insurance, pension plans, vacation, sick leave, leave of absence, and employee assistance.     Marketing Associate     Designed and created marketing collateral for sales meetings, trade shows and company executives.  Managed the in-house advertising program consisting of print and media collateral pieces.  Assisted in the complete design and launch of the company's website in 2 months.  Created an official company page on Facebook to facilitate interaction with customers.  Analyzed ratings and programming features of competitors to evaluate the effectiveness of marketing strategies.         Advanced Medical Claims Analyst     Mar 2012   to   Dec 2013      Company Name   －   City  ,   State     Reviewed medical bills for the accuracy of the treatments, tests, and hospital stays prior to sanctioning the claims.  Trained to interpret the codes (ICD-9, CPT) and terminology commonly used in medical billing to fully understand the paperwork that is submitted by healthcare providers.  Required to have organizational and analytical skills as well as computer skills, knowledge of medical terminology and procedures, statistics, billing standards, data analysis and laws regarding medical billing.         Assistant General Manager     Jun 2010   to   Dec 2010      Company Name   －   City  ,   State     Performed duties including but not limited to, budgeting and financial management, accounting, human resources, payroll and purchasing.  Established and maintained close working relationships with all departments of the hotel to ensure maximum operation, productivity, morale and guest service.  Handled daily operations and reported directly to the corporate office.  Hired and trained staff on overall objectives and goals with an emphasis on high customer service.  Marketing and Advertising, working on public relations with the media, government and local businesses and Chamber of Commerce.         Executive Support / Marketing Assistant     Jul 2007   to   Jun 2010      Company Name   －   City  ,   State     Provided assistance to various department heads - Executive, Marketing, Customer Service, Human Resources.  Managed front-end operations to ensure friendly and efficient transactions.  Ensured the swift resolution of customer issues to preserve customer loyalty while complying with company policies.  Exemplified the second-to-none customer service delivery in all interactions with customers and potential clients.         Reservation & Front Office Manager     Jun 2004   to   Jul 2007      Company Name   －   City  ,   State          Owner/ Partner     Dec 2001   to   May 2004      Company Name   －   City  ,   State          Price Integrity Coordinator     Aug 1999   to   Dec 2001      Company Name   －   City  ,   State          Education      N/A  ,   Business Administration   1999     Jefferson College   －   City  ,   State       Business Administration  Marketing / Advertising         High School Diploma  ,   College Prep. studies   1998     Sainte Genevieve Senior High   －   City  ,   State       Awarded American Shrubel Leadership Scholarship to Jefferson College         Skills     Accounting, ads, advertising, analytical skills, benefits, billing, budgeting, clients, Customer Service, data analysis, delivery, documentation, employee relations, financial management, government relations, Human Resources, insurance, labor relations, layout, Marketing, marketing collateral, medical billing, medical terminology, office, organizational, payroll, performance reviews, personnel, policies, posters, presentations, public relations, purchasing, reporting, statistics, website.    \n"
     ]
    }
   ],
   "source": [
    "#  print resume_str for the first resume\n",
    "print(resumes['Resume_str'][0])"
   ]
  },
  {
   "cell_type": "code",
   "execution_count": 13,
   "metadata": {},
   "outputs": [],
   "source": [
    "# drop html column from resume\n",
    "resumes.drop('Resume_html', axis=1, inplace=True)"
   ]
  },
  {
   "cell_type": "code",
   "execution_count": 14,
   "metadata": {},
   "outputs": [
    {
     "name": "stdout",
     "output_type": "stream",
     "text": [
      "Index(['ID', 'Resume_str', 'Category', 'resume_length'], dtype='object')\n"
     ]
    }
   ],
   "source": [
    "#This shows the structure of the resume format currently which includes an ID, Resume_str, and a Category \n",
    "print(resumes.columns)"
   ]
  },
  {
   "cell_type": "code",
   "execution_count": 15,
   "metadata": {},
   "outputs": [
    {
     "name": "stdout",
     "output_type": "stream",
     "text": [
      "Promote diversity and inclusion in the supply chain, manage supplier diversity programs, and assess supplier performance.\n",
      "Supplier Diversity Manager\n",
      "Procurement Manager\n"
     ]
    }
   ],
   "source": [
    "#This shows what the values of the job_description looks like \n",
    "\n",
    "print(job_descriptions['Job Description'][0])\n",
    "print(job_descriptions['Role'][0])\n",
    "print(job_descriptions['Job Title'][0])\n"
   ]
  },
  {
   "cell_type": "markdown",
   "metadata": {},
   "source": [
    "\n",
    "This section uses the Sentence Transformer with the all-MiniLM model to map text into high-dimensional vectors (essentially numerical matrices). \n",
    "These vectors allow us to compare different pieces of text in a mathematical way. \n",
    "For example, sentences like 'It's a sunny day' and 'It's a warm day and the sun is out' will have similar vectors because they mean similar things."
   ]
  },
  {
   "cell_type": "markdown",
   "metadata": {},
   "source": [
    "Continuing with resume dataset from here onwards"
   ]
  },
  {
   "cell_type": "code",
   "execution_count": 16,
   "metadata": {},
   "outputs": [
    {
     "name": "stderr",
     "output_type": "stream",
     "text": [
      "/Users/paulaLburgos/Documents/BU/F24/cs506/.venv/lib/python3.12/site-packages/sentence_transformers/cross_encoder/CrossEncoder.py:13: TqdmWarning: IProgress not found. Please update jupyter and ipywidgets. See https://ipywidgets.readthedocs.io/en/stable/user_install.html\n",
      "  from tqdm.autonotebook import tqdm, trange\n"
     ]
    },
    {
     "name": "stdout",
     "output_type": "stream",
     "text": [
      "Resume Embedding: [-4.44783904e-02  2.12291833e-02  5.16215991e-03  8.68071616e-02\n",
      " -1.90761555e-02  7.81325973e-04  2.37274785e-02 -4.06728014e-02\n",
      " -1.07696280e-01 -4.17434908e-02  2.73197796e-02 -3.32663618e-02\n",
      "  5.37253506e-02  3.51294968e-03  3.34979743e-02 -6.90997858e-03\n",
      "  5.97889759e-02  4.97065485e-03  2.38165036e-02 -8.98992196e-02\n",
      " -2.34016199e-02 -3.63231637e-02 -6.50669187e-02  5.72315929e-03\n",
      " -8.66769552e-02 -2.19411347e-02 -1.34049580e-02  6.51615933e-02\n",
      " -6.56526759e-02 -4.83934879e-02 -1.35339489e-02 -3.70528623e-02\n",
      "  8.72620642e-02 -2.55778302e-02  4.85715419e-02  1.14448287e-01\n",
      "  3.60472761e-02 -2.03129128e-02  3.95207629e-02 -3.87397036e-02\n",
      " -4.27797586e-02 -4.83792424e-02 -2.18280703e-02 -5.85983358e-02\n",
      "  1.58919841e-02 -2.26589367e-02 -7.07800733e-03 -2.54447684e-02\n",
      " -8.44771415e-02  3.12941521e-02 -5.66065721e-02 -7.04541220e-04\n",
      "  4.22375724e-02  3.30649428e-02 -4.74978499e-02  4.66278531e-02\n",
      "  2.50048619e-02  2.18113009e-02 -1.04683869e-01 -3.39016020e-02\n",
      " -1.30508542e-01 -2.02439874e-02 -6.77744448e-02  2.31584162e-02\n",
      " -2.97344644e-02 -7.82475770e-02 -6.58563450e-02  3.25592831e-02\n",
      "  1.45067079e-02 -9.82009694e-02  1.65074284e-03 -1.02084465e-01\n",
      " -7.04190284e-02  1.76891256e-02  3.87499742e-02  5.06119877e-02\n",
      "  3.22933234e-02  5.16057163e-02  8.80523697e-02 -4.53624018e-02\n",
      "  3.24907154e-02  5.10304272e-02 -2.31624302e-03  4.55868989e-02\n",
      " -6.93846345e-02 -3.34333740e-02 -2.92904619e-02  8.14342033e-03\n",
      " -1.11913187e-02 -1.21004945e-02  7.83437565e-02  1.23557001e-02\n",
      " -5.15367463e-02 -6.64710253e-02  3.67965922e-03  5.98185277e-03\n",
      " -5.22105433e-02  6.23481721e-02 -3.17009166e-02  2.22998355e-02\n",
      "  6.13157637e-02 -1.38458814e-02 -2.25343481e-02 -6.16862811e-03\n",
      " -3.42010148e-02  2.02789791e-02  7.52331093e-02  7.57780895e-02\n",
      "  6.00662408e-03  1.21859349e-02 -5.60449064e-02  8.14300850e-02\n",
      " -8.84212330e-02 -4.09324542e-02  7.33269984e-03  6.28156662e-02\n",
      " -7.52358213e-02  3.22463214e-02  6.05618469e-02  1.64620182e-03\n",
      " -1.31618073e-02 -4.36557486e-04  7.32353097e-03  3.22909327e-03\n",
      " -2.07423754e-02 -6.44435734e-03 -1.44314962e-02  7.62588368e-33\n",
      " -4.58976552e-02  6.19457625e-02 -6.87603187e-03  5.62055260e-02\n",
      "  3.46543863e-02  8.31678882e-02  2.01100819e-02 -1.13549111e-02\n",
      "  6.00903183e-02  1.14342337e-02 -4.19339351e-02  4.72954474e-02\n",
      "  2.60547567e-02 -6.62566051e-02 -7.92396367e-02 -6.23751897e-03\n",
      "  2.32618805e-02  1.04214601e-01 -1.40222386e-02  1.80239172e-03\n",
      "  5.30534657e-03 -2.27858145e-02 -2.26245578e-02  2.47347374e-02\n",
      "  1.58891007e-02  9.58241671e-02  9.16630495e-03  2.17022207e-02\n",
      "  4.48493622e-02  3.68831120e-02  3.12296245e-02 -1.45337349e-02\n",
      "  2.53748358e-03 -3.52874324e-02  1.82298515e-02  6.10852167e-02\n",
      " -6.75497800e-02 -5.56165874e-02 -1.58886090e-02 -9.26174149e-02\n",
      " -1.42212451e-01  4.42403443e-02  2.93101948e-02  1.11013791e-02\n",
      " -2.12388523e-02  7.64662214e-03  9.02383700e-02  3.72592499e-03\n",
      "  4.99108136e-02  1.25364929e-01 -8.42234567e-02 -9.67769921e-02\n",
      "  2.56680157e-02  4.58096527e-02  2.76612360e-02 -6.79797027e-03\n",
      "  1.20537110e-01  9.41312406e-03  6.80460362e-03 -4.42034416e-02\n",
      " -1.24043450e-02  2.55753342e-02 -8.91627520e-02 -9.84142162e-03\n",
      "  5.59673272e-02 -5.94760962e-02 -3.98144126e-02 -2.62532569e-02\n",
      "  9.84154940e-02  1.20038744e-02 -1.12635419e-02  9.05724056e-03\n",
      "  1.41193615e-02  8.50701556e-02 -4.03114073e-02 -4.64615896e-02\n",
      " -1.25076994e-02  6.27324209e-02  6.96976706e-02  4.83139679e-02\n",
      " -3.03419475e-02  1.78329367e-02  2.89213061e-02 -4.81705964e-02\n",
      "  1.04692817e-01 -2.58709285e-02  4.65001613e-02  1.67743247e-02\n",
      "  2.89677065e-02  3.51438150e-02  9.67049412e-03  1.17599089e-02\n",
      "  2.44317409e-02  1.76398084e-01 -2.70301346e-02 -7.19737852e-33\n",
      "  5.56261372e-03 -5.67115890e-03  6.31262735e-03 -8.13567340e-02\n",
      "  5.13478182e-03  7.37024099e-03 -4.10537682e-02  2.03870330e-02\n",
      " -5.78389410e-03 -8.42372999e-02 -2.04038285e-02 -8.06904456e-04\n",
      " -3.30196805e-02 -6.80466602e-03 -6.61249012e-02  2.80268732e-02\n",
      " -2.97539704e-03 -2.42229383e-02 -1.25497691e-02  5.90146482e-02\n",
      " -1.93603635e-02  7.08283409e-02 -6.47177547e-02  6.27661645e-02\n",
      " -5.43626547e-02  3.05893235e-02  4.92868200e-02 -4.66869259e-03\n",
      "  1.16460631e-02  1.55600840e-02  2.08385866e-02 -1.10900193e-01\n",
      " -5.06449677e-02  5.59519418e-02  2.04816014e-02 -1.29437685e-01\n",
      "  4.76864018e-02  1.51139842e-02 -3.71994562e-02  1.07464418e-01\n",
      "  7.07464293e-02 -3.88707742e-02 -1.58876413e-03 -9.21030715e-03\n",
      "  2.52604112e-02  7.47690536e-03  1.44898528e-02 -1.04610324e-01\n",
      " -8.76021162e-02 -2.16915067e-02 -7.43161440e-02 -1.18771255e-01\n",
      " -3.31116058e-02 -5.41626336e-03 -1.31560871e-02 -3.04405242e-02\n",
      "  1.67385638e-02  6.23371527e-02 -2.22951248e-02 -5.48547171e-02\n",
      "  1.36276111e-01  8.11755881e-02  4.39091884e-02  1.08964778e-01\n",
      " -3.86999385e-03  1.00861117e-02  2.67381463e-02 -8.20292756e-02\n",
      " -7.31945559e-02  2.65951771e-02 -5.77392876e-02 -1.65645666e-02\n",
      " -6.14000745e-02 -3.93774398e-02 -2.64745709e-02 -7.07308725e-02\n",
      " -4.09562178e-02 -1.25972822e-01 -7.40368143e-02 -6.56325892e-02\n",
      " -9.60834622e-02 -1.22910859e-02 -5.20246513e-02  3.25868428e-02\n",
      "  3.47373299e-02  7.02050403e-02  3.89058776e-02 -4.29606484e-03\n",
      "  1.22308070e-02 -4.51501049e-02 -3.52729857e-02 -1.63625348e-02\n",
      " -4.26142626e-02  6.41122758e-02 -1.38235558e-02 -6.11140791e-08\n",
      " -5.38988784e-02 -6.33666466e-04 -2.59749051e-02 -8.30748677e-03\n",
      "  5.73345600e-03 -3.34142819e-02 -1.14147149e-01 -1.53172016e-02\n",
      "  3.80952433e-02  5.39068356e-02  7.96677247e-02  1.56119959e-02\n",
      " -5.55393286e-02 -1.09945983e-01  9.07215476e-02 -1.85651667e-02\n",
      "  1.36904810e-02  9.21836942e-02 -1.25130564e-02  2.74425256e-03\n",
      "  7.03643709e-02  1.12760756e-02  2.79869437e-02  3.99016030e-02\n",
      "  6.51476681e-02 -2.67561828e-03 -3.83364335e-02  8.26177672e-02\n",
      "  7.96464086e-02 -6.87448159e-02  2.04425398e-02 -4.94871149e-03\n",
      "  6.04112260e-02 -1.66707374e-02  3.37201096e-02  1.64344404e-02\n",
      "  3.79071524e-03 -5.91979101e-02  4.59745042e-02  2.04688478e-02\n",
      " -5.07872514e-02  7.29207844e-02  5.13200499e-02  4.73901816e-02\n",
      "  3.98502238e-02  4.73111868e-02  2.46243272e-02 -6.46071648e-03\n",
      " -3.08286573e-04  1.16190575e-02 -6.44579604e-02 -8.38620123e-03\n",
      "  3.66303287e-02  3.73581564e-03  2.04665307e-02 -2.48166714e-02\n",
      "  6.88036159e-02 -7.34259794e-03  2.15177257e-02  3.40185612e-02\n",
      "  4.03929017e-02 -2.91888267e-02 -1.59321483e-02  2.30309553e-02]\n",
      "Job Description Embedding: [ 3.14815082e-02 -2.91548986e-02  6.34451583e-03 -1.05054183e-02\n",
      "  7.54856644e-03  5.65664768e-02 -5.18087670e-02 -5.42155728e-02\n",
      " -7.03711389e-03 -7.83676356e-02  2.78766826e-02 -1.08605828e-02\n",
      "  3.67794074e-02 -2.36461516e-02  2.14133523e-02 -8.73961113e-03\n",
      " -1.37385156e-03  1.79450978e-02 -4.59420271e-02 -1.60866469e-01\n",
      " -5.21508530e-02 -7.24913031e-02 -1.84737728e-03  3.70372981e-02\n",
      " -8.03973824e-02 -4.78064530e-02 -6.67768270e-02  2.47578658e-02\n",
      "  1.31056104e-02 -4.50814366e-02 -4.71545296e-04  1.87006798e-02\n",
      "  1.54242124e-02 -8.09567329e-03 -4.02990542e-02  9.24580768e-02\n",
      " -1.10284574e-02 -3.48991416e-02  7.18374774e-02  4.67225946e-02\n",
      " -3.66482325e-02  2.55384091e-02 -3.95005867e-02  2.10655760e-02\n",
      "  4.28188443e-02 -5.61392643e-02 -1.76219121e-02 -7.24559054e-02\n",
      " -2.71286536e-03 -5.17579913e-02  7.97272176e-02  1.45557085e-02\n",
      " -4.15827371e-02 -5.81101812e-02  3.57131916e-03  8.25461186e-03\n",
      "  3.03669944e-02 -1.05813049e-01 -5.35302237e-02 -5.16752750e-02\n",
      " -2.16505583e-02 -4.74229790e-02 -3.40084508e-02  5.19664166e-03\n",
      "  7.34647065e-02 -4.01072204e-02 -4.05397527e-02  1.22323535e-01\n",
      " -1.33212715e-01 -6.48478642e-02  1.17431805e-02 -2.62031835e-02\n",
      "  3.37212533e-02  7.54415989e-02  6.11124411e-02  9.16945189e-02\n",
      "  4.96217720e-02 -1.44504523e-02  7.06948945e-03  3.21300849e-02\n",
      "  9.35213920e-03  1.04796350e-01 -6.16444014e-02  2.86017861e-02\n",
      " -9.73076001e-03 -2.63406131e-02  4.58419099e-02 -8.70778505e-03\n",
      " -7.97102079e-02  2.86112893e-02 -8.98517072e-02 -3.11550573e-02\n",
      "  6.32915050e-02 -3.08713987e-02  1.08201662e-02  5.12156337e-02\n",
      " -1.05409389e-02 -2.48362143e-02  6.98034391e-02  1.78575702e-02\n",
      "  7.66274557e-02  4.80602831e-02  1.13700209e-02 -5.55527918e-02\n",
      " -8.00989941e-02 -4.05849405e-02 -1.15003195e-02  6.04947507e-02\n",
      "  4.01733331e-02  3.61513197e-02 -1.39467232e-02  1.79412514e-02\n",
      " -6.28866479e-02 -3.21066044e-02 -5.37159713e-03  6.70486465e-02\n",
      " -6.18876889e-03  6.30342215e-02  6.30314276e-02  3.40369865e-02\n",
      " -1.20493509e-02  1.47447363e-02  4.57975604e-02 -6.55408800e-02\n",
      "  7.95384869e-03  8.62525180e-02 -7.25170225e-02 -3.47878370e-33\n",
      " -3.26831080e-02 -4.01391536e-02 -1.53422216e-02  5.73680773e-02\n",
      "  2.40568314e-02  3.28504480e-02 -1.32738557e-02  3.37681472e-02\n",
      " -9.58655775e-02  1.32881766e-02 -9.99694690e-02  3.68540362e-02\n",
      " -1.03745433e-02  2.32719872e-02  5.00198267e-02 -2.23214310e-02\n",
      " -3.08773741e-02  8.61337408e-02  9.03079694e-04 -1.93550892e-04\n",
      " -2.18593515e-02  7.61661155e-04 -8.86662398e-04  4.41830382e-02\n",
      "  6.50624260e-02 -2.00700816e-02  3.43645806e-03  7.38605708e-02\n",
      "  1.34663181e-02 -1.55779235e-02  4.30247150e-02  4.76662144e-02\n",
      " -1.15108201e-02 -8.20218492e-03 -4.14058333e-03  1.61872134e-02\n",
      " -7.67162964e-02 -3.03788818e-02  5.75385317e-02 -1.69893950e-02\n",
      " -5.73108904e-02 -1.52452558e-03 -4.84131761e-02  3.97784375e-02\n",
      "  4.64124233e-02  8.83830637e-02  7.17094094e-02 -5.07974550e-02\n",
      " -4.71160896e-02  7.10100085e-02 -1.02185018e-01  3.39314863e-02\n",
      "  6.49505407e-02  6.31425716e-03  7.72438943e-02 -6.52527288e-02\n",
      "  1.42954439e-02 -6.94263503e-02  6.87300637e-02 -5.00416793e-02\n",
      " -2.46315822e-02  4.81182113e-02 -2.44299825e-02  7.07892552e-02\n",
      "  5.33044823e-02  2.50089564e-03  3.58025962e-03 -4.03161570e-02\n",
      "  6.40227832e-03  3.61454450e-02  3.38367373e-02 -1.39830429e-02\n",
      " -6.65347204e-02  5.23587177e-03 -3.65966782e-02 -3.83211188e-02\n",
      " -5.93430363e-02  1.03740200e-01  7.42617473e-02 -1.15136504e-01\n",
      " -7.86970183e-02  2.09977385e-02  1.64743625e-02  2.72762552e-02\n",
      " -3.56486589e-02  1.35904877e-02  7.74530321e-02  1.74014475e-02\n",
      "  6.63684160e-02 -2.13336083e-03 -1.04548531e-02  3.54927294e-02\n",
      " -2.55928170e-02  1.57157313e-02  5.05944155e-02  7.34691087e-34\n",
      "  2.08767671e-02  8.96031559e-02 -1.45663973e-02 -9.53842774e-02\n",
      "  3.82730365e-02  7.87734892e-03  2.70034131e-02 -3.57925408e-02\n",
      "  4.86843102e-02  6.34226874e-02 -5.15230075e-02  8.33862051e-02\n",
      "  2.26315148e-02  1.70107782e-02 -8.90682638e-02 -2.00299406e-03\n",
      " -1.89318899e-02  6.64126053e-02  6.31686673e-03  2.86095887e-02\n",
      "  5.97477704e-02  8.33362564e-02  4.55439612e-02 -1.80780403e-02\n",
      "  1.97595879e-02  3.09314989e-02 -1.17811225e-02 -6.12241477e-02\n",
      " -4.35461625e-02 -1.02942601e-01  1.82305425e-02 -5.70215099e-02\n",
      " -6.22281097e-02  3.46078351e-02 -2.26192661e-02 -5.59753366e-02\n",
      " -4.25762758e-02  2.30185576e-02  9.47708115e-02  3.87994386e-02\n",
      " -4.31219414e-02 -2.90178992e-02 -1.96763966e-02  4.03798930e-02\n",
      " -9.27069876e-03  2.06280220e-02  8.87817238e-03 -1.08829215e-01\n",
      "  1.11525930e-01 -2.62586605e-02 -1.09824389e-01 -3.55022475e-02\n",
      "  1.47968009e-02 -2.57694181e-02 -2.48640198e-02 -2.39319168e-02\n",
      "  5.94565272e-02  9.43140313e-03 -7.13034673e-03  3.07783037e-02\n",
      " -3.04564815e-02  7.04292431e-02  4.45957519e-02  3.11921202e-02\n",
      " -3.33142243e-02 -5.55872964e-03  2.59763952e-02 -6.77228346e-02\n",
      "  1.88818648e-02  1.28760487e-02  1.53947808e-02 -1.30117917e-02\n",
      "  3.01688071e-02 -3.28154638e-02 -5.53752333e-02  3.96933546e-03\n",
      " -4.79006954e-02 -1.28613161e-02 -1.06675848e-01  4.77267392e-02\n",
      "  3.22734453e-02 -8.42263028e-02  9.91528779e-02  8.12342912e-02\n",
      " -6.28259033e-02  8.44810531e-02  3.49054970e-02  1.92098308e-03\n",
      "  5.05651906e-02 -7.91890323e-02 -9.56650302e-02  2.56877169e-02\n",
      " -3.94387282e-02 -5.25371581e-02  4.23224866e-02 -2.17022880e-08\n",
      "  2.98645650e-03 -4.29024212e-02  3.44289206e-02  1.04416393e-01\n",
      " -7.76362270e-02 -1.14802923e-02 -4.78743464e-02  1.94684677e-02\n",
      " -1.09354993e-02  9.85449106e-02 -6.57747090e-02 -2.49083675e-02\n",
      " -6.90962821e-02  5.76075129e-02  9.56713930e-02  3.73522379e-02\n",
      "  5.28128678e-03  8.72557089e-02 -1.71443038e-02 -2.64446251e-02\n",
      " -3.63232158e-02  7.11480305e-02  1.05536617e-01  2.88012177e-02\n",
      " -2.31503081e-02 -8.14950373e-03  1.28851151e-02 -4.78545427e-02\n",
      "  1.00909546e-02  9.43728536e-03  1.15139470e-01  1.66450813e-02\n",
      " -9.81872808e-03 -6.49545118e-02 -5.36794662e-02  1.96435656e-02\n",
      " -7.91424438e-02  8.29407573e-02  1.88749675e-02  5.48330648e-03\n",
      " -1.19023614e-01 -2.98772492e-02  6.49399264e-03  5.19003123e-02\n",
      " -3.79371680e-02 -1.27875302e-02 -1.45027101e-01  3.95447463e-02\n",
      " -4.67033274e-02  3.01236957e-02  4.02854159e-02 -3.32205631e-02\n",
      "  2.87154061e-03 -1.74234193e-02  7.03432038e-02 -6.73027933e-02\n",
      " -3.64024378e-02 -6.35512173e-02  2.21485868e-02  1.23450449e-02\n",
      "  1.06435241e-02 -7.15616196e-02  6.70976713e-02 -3.47064845e-02]\n"
     ]
    }
   ],
   "source": [
    "# pip install -U sentence-transformers\n",
    "from sentence_transformers import SentenceTransformer\n",
    "\n",
    "\n",
    "# Load the SBERT model\n",
    "model = SentenceTransformer('all-MiniLM-L6-v2')\n",
    "\n",
    "# Example: Encode a single resume and a job description\n",
    "resume_text = resumes['Resume_str'][0]  # Take the first resume as an example\n",
    "job_description_text = job_descriptions['Job Description'][0]  # Take the first job description as an example\n",
    "\n",
    "# Encode the texts\n",
    "resume_embedding = model.encode(resume_text)\n",
    "job_description_embedding = model.encode(job_description_text)\n",
    "\n",
    "print(\"Resume Embedding:\", resume_embedding)\n",
    "print(\"Job Description Embedding:\", job_description_embedding)"
   ]
  },
  {
   "cell_type": "code",
   "execution_count": 17,
   "metadata": {},
   "outputs": [
    {
     "name": "stdout",
     "output_type": "stream",
     "text": [
      "(384,)\n"
     ]
    }
   ],
   "source": [
    "#This indicates the size of the resume_embedding matrix (384,)\n",
    "#In other words its basically a matrix of with row 384 with no columns \n",
    "print(resume_embedding.shape)"
   ]
  },
  {
   "cell_type": "markdown",
   "metadata": {},
   "source": [
    "We analyzed two resumes:\n",
    "\n",
    "1. **First resume**: Classified as \"HR.\"\n",
    "2. **Second resume**: Classified as \"Designer.\"\n",
    "\n",
    "These two categories are clearly quite different. To verify this, we used **cosine similarity** to compare the text from the resumes after transforming them into matrices using the SentenceTransformer model.\n",
    "\n",
    "The cosine similarity score came out to **0.37979**, which confirms that the two resumes are quite dissimilar. This result aligns with our expectation that HR and Designer resumes should differ significantly.\n",
    "\n",
    "This demonstrates that the SentenceTransformer model effectively captures the differences between resume texts.\n"
   ]
  },
  {
   "cell_type": "code",
   "execution_count": 18,
   "metadata": {},
   "outputs": [
    {
     "name": "stdout",
     "output_type": "stream",
     "text": [
      "Similarity Score: 0.37977874\n"
     ]
    }
   ],
   "source": [
    "from sentence_transformers import SentenceTransformer\n",
    "from sklearn.metrics.pairwise import cosine_similarity\n",
    "\n",
    "# Load the SBERT model\n",
    "model = SentenceTransformer('all-MiniLM-L6-v2')\n",
    "\n",
    "# Example: Encode the first resume and its category\n",
    "hr_resume_text = resumes['Resume_str'][0]  \n",
    "designer_resume_text = resumes['Resume_str'][110]  \n",
    "\n",
    "\n",
    "# Encode the texts using SBERT\n",
    "hr_embedding = model.encode(hr_resume_text)\n",
    "designer_embedding = model.encode(designer_resume_text)\n",
    "\n",
    "# Calculate the cosine similarity between the resume and category\n",
    "similarity_score = cosine_similarity([hr_embedding], [designer_embedding])[0][0]\n",
    "\n",
    "#print(\"Resume:\", resume_text)\n",
    "#print(\"Category:\", category_text)\n",
    "print(\"Similarity Score:\", similarity_score)\n"
   ]
  },
  {
   "cell_type": "markdown",
   "metadata": {},
   "source": [
    "These two resumes were both classified under the HR category. To verify their similarity, we again calculated the cosine similarity score between the resumes using their SentenceTransformer embeddings.\n",
    "\n",
    "Cosine similarity score: **0.84231**\n",
    "\n",
    "A higher score (closer to 1) indicates strong similarity between the two resumes in terms of semantic content. This result aligns with the expectation that resumes from the same category, such as HR, will have similar textual structures and content.\n",
    "This demonstrates the SentenceTransformer model’s effectiveness in grouping semantically similar texts."
   ]
  },
  {
   "cell_type": "code",
   "execution_count": 19,
   "metadata": {},
   "outputs": [
    {
     "name": "stdout",
     "output_type": "stream",
     "text": [
      "Similarity Score: 0.6777137\n"
     ]
    }
   ],
   "source": [
    "from sentence_transformers import SentenceTransformer\n",
    "from sklearn.metrics.pairwise import cosine_similarity\n",
    "\n",
    "# Load the SBERT model\n",
    "model = SentenceTransformer('all-MiniLM-L6-v2')\n",
    "\n",
    "# Example: Encode the first resume and its category\n",
    "hr_resume_text = resumes['Resume_str'][0]  \n",
    "hr_2_resume_text = resumes['Resume_str'][1]  \n",
    "\n",
    "hr_embedding = model.encode(resume_text)\n",
    "hr_2_embedding = model.encode(hr_2_resume_text)\n",
    "\n",
    "# Calculate the cosine similarity between the resume and category\n",
    "similarity_score = cosine_similarity([hr_embedding], [hr_2_embedding])[0][0]\n",
    "\n",
    "#print(\"Resume:\", resume_text)\n",
    "#print(\"Category:\", category_text)\n",
    "print(\"Similarity Score:\", similarity_score)\n"
   ]
  },
  {
   "cell_type": "markdown",
   "metadata": {},
   "source": [
    "The code below uses TF-IDF to represent resumes as word frequency matrices and calculates cosine similarity to compare resumes within and across categories."
   ]
  },
  {
   "cell_type": "code",
   "execution_count": 25,
   "metadata": {},
   "outputs": [
    {
     "name": "stdout",
     "output_type": "stream",
     "text": [
      "HR\n",
      "HR\n",
      "DESIGNER\n",
      "AVIATION\n",
      "FITNESS\n",
      "Similarity Score between similar ones: 0.6840227888027683\n",
      "Similarity Score between different ones: 0.5616106197252699\n",
      "Similarity Score between fitness and aviation: 0.5047879386181318\n"
     ]
    }
   ],
   "source": [
    "# tfidf vectorizer\n",
    "from sklearn.feature_extraction.text import TfidfVectorizer\n",
    "\n",
    "# tfidf comparison between two resume str with the same category\n",
    "# both of the following resumes have the same category HR\n",
    "resume_one_hr = resumes['Resume_str'][0]\n",
    "resume_two_hr = resumes['Resume_str'][1]\n",
    "# resume with category DESIGNER\n",
    "resume_designer = resumes['Resume_str'][110]\n",
    "resume_aviation = resumes['Resume_str'][2367]\n",
    "resume_fitness = resumes['Resume_str'][792]\n",
    "\n",
    "# print categories for the aboce\n",
    "print(resumes['Category'][0])\n",
    "print(resumes['Category'][1])\n",
    "print(resumes['Category'][110])\n",
    "print(resumes['Category'][2367])\n",
    "print(resumes['Category'][792])\n",
    "\n",
    "# Initialize the TfidfVectorizer\n",
    "tfidf = TfidfVectorizer()\n",
    "\n",
    "# tfidf on the resumes (This will generate a row/column matrix) (Each new row repersents a new resume, the column repersents the diffrent words)\n",
    "resume_tfidf = tfidf.fit_transform([resume_one_hr, resume_two_hr])\n",
    "\n",
    "# Calculate the cosine similarity between the two resumes ()\n",
    "similarity_score = cosine_similarity(resume_tfidf)\n",
    "\n",
    "# tfidf on the resumes\n",
    "resume_different_cat_tfidf = tfidf.fit_transform([resume_one_hr, resume_designer])\n",
    "\n",
    "# Calculate the cosine similarity between the two resumes\n",
    "similarity_score_different_cat = cosine_similarity(resume_different_cat_tfidf)\n",
    "\n",
    "# tfidf on the resumes\n",
    "fitness_aviation = tfidf.fit_transform([resume_aviation, resume_fitness])\n",
    "\n",
    "# Calculate the cosine similarity between the two resumes\n",
    "similarity_score_fitavi = cosine_similarity(fitness_aviation)\n",
    "\n",
    "# print\n",
    "\n",
    "print(\"Similarity Score between similar ones:\", similarity_score[0][1])\n",
    "print(\"Similarity Score between different ones:\", similarity_score_different_cat[0][1])\n",
    "print(\"Similarity Score between fitness and aviation:\", similarity_score_fitavi[0][1])"
   ]
  },
  {
   "cell_type": "markdown",
   "metadata": {},
   "source": [
    "**SenteceTransformer vs TF-IDF**\n",
    "\n",
    "As seen above, we tested both TF-IDF and SentenceTransformer and even though the similarity score when both resumes are 'HR' is higher in TFIDF (0.684 vs 0.677), higher similarity scores in TF-IDF can sometimes arise from keyword overlaps, which may not translate to better model performance. Since the two resumes share many common words, TF-IDF gives a high score even if the resumes differ significantly in meaning.\n",
    "SentenceTransformer embeddings generalize better because they look beyond word overlap, considering context and meaning, which is particularly useful for resumes written with varying language styles. SentenceTransformer produces dense embeddings (fixed size of 384 dimensions) that preserve semantic relationships between words, making it robust for downstream tasks while TF-IDF generates sparse matrices that grow with the vocabulary size, and can be inefficient and prone to overfitting in high-dimensional datasets.\n",
    "\n",
    "Moreover, TF-IDF can unintentionally leak information from the dataset. This happens when the vocabulary is built across the entire dataset, causing some terms to be unfairly weighted during feature extraction. This could lead to artificially inflated performance in training but poor generalization in real-world scenarios, which we saw in our first drafts of this code. \n",
    "\n",
    "Also, SentenceTransformer embeddings are computationally efficient and well-suited for high-dimensional data, whereas TF-IDF's performance declines as the dataset size increases.\n",
    "\n",
    "Therefore, all in all, SentenceTransformer is better suited for this project due to its ability to handle semantic relationships, prevent data leakage, and provide computational efficiency."
   ]
  },
  {
   "cell_type": "markdown",
   "metadata": {},
   "source": [
    "So what other features can we engineer? To increase the accuracy of the model we focused on feature engineering techniques that align with the semantic nature of our dataset:\n",
    "\n",
    "**Resume Length**: Added a numerical feature capturing the character count of each resume to account for verbosity as a potential differentiator between categories.\n",
    "\n",
    "**SentenceTransformer Embeddings**: Generated 384-dimensional embeddings to capture the semantic structure of each resume.\n",
    "\n",
    "**Category-Specific Keyword Counts**: Created a 24-dimensional feature vector representing the frequency of predefined keywords for each job category. This helps link resumes to their respective industries based on keyword presence.\n",
    "\n",
    "These features enhance the dataset by combining basic metadata, semantic meaning, and category-specific relevance. They provide a robust foundation for classification tasks.\n",
    "\n"
   ]
  },
  {
   "cell_type": "code",
   "execution_count": 11,
   "metadata": {},
   "outputs": [],
   "source": [
    "#Creating a predefined dictionary for all 24 job Categories \n",
    "#\n",
    "resume_keywords_dict = {\n",
    "    \"INFORMATION-TECHNOLOGY\": [\n",
    "        \"Python\", \"Java\", \"C++\", \"JavaScript\", \"HTML\", \"CSS\", \"SQL\", \"NoSQL\", \"React\", \"Angular\",\n",
    "        \"Django\", \"Flask\", \"Git\", \"AWS\", \"Azure\", \"Google Cloud Platform\", \"DevOps\", \"Docker\",\n",
    "        \"Kubernetes\", \"Linux\", \"Windows Server\", \"Machine Learning\", \"Data Science\", \"TensorFlow\",\n",
    "        \"Keras\", \"Cybersecurity\", \"Penetration Testing\", \"Scrum\", \"Agile\", \"REST APIs\",\n",
    "        \"Microservices\", \"Networking\", \"Cloud Computing\", \"Virtualization\", \"Data Analysis\"\n",
    "    ],\n",
    "    \"BUSINESS-DEVELOPMENT\": [\n",
    "        \"Market Research\", \"Business Strategy\", \"Negotiation\", \"Sales Pipeline\", \"Cold Calling\",\n",
    "        \"Lead Generation\", \"Partnership Development\", \"Customer Relationship Management (CRM)\",\n",
    "        \"Account Management\", \"Revenue Growth\", \"KPI Analysis\", \"B2B Sales\", \"B2C Sales\",\n",
    "        \"Competitor Analysis\", \"Proposal Writing\", \"Networking\", \"Forecasting\", \"Client Retention\",\n",
    "        \"Brand Awareness\", \"Cross-functional Collaboration\"\n",
    "    ],\n",
    "    \"FINANCE\": [\n",
    "        \"Financial Analysis\", \"Budgeting\", \"Forecasting\", \"Tax Preparation\", \"Accounting Principles\",\n",
    "        \"Auditing\", \"Risk Management\", \"Investment Analysis\", \"Portfolio Management\", \"Equity Research\",\n",
    "        \"Valuation Models\", \"Financial Statements\", \"SAP\", \"QuickBooks\", \"IFRS\", \"GAAP\",\n",
    "        \"Cost Control\", \"Treasury Management\", \"Credit Analysis\", \"Derivatives\", \"Hedge Funds\",\n",
    "        \"Capital Markets\", \"Compliance\", \"Fixed Income\", \"Financial Planning\"\n",
    "    ],\n",
    "    \"ADVOCATE\": [\n",
    "        \"Legal Research\", \"Litigation\", \"Contract Drafting\", \"Case Management\", \"Legal Writing\",\n",
    "        \"Compliance\", \"Mediation\", \"Arbitration\", \"Corporate Law\", \"Intellectual Property Law\",\n",
    "        \"Employment Law\", \"Criminal Defense\", \"Court Proceedings\", \"Discovery Process\",\n",
    "        \"Civil Litigation\", \"Client Advocacy\", \"Deposition\", \"Legal Strategy\", \"Trial Preparation\",\n",
    "        \"Human Rights\", \"Legal Negotiation\", \"Case Briefing\"\n",
    "    ],\n",
    "    \"ACCOUNTANT\": [\n",
    "        \"Financial Statements\", \"Auditing\", \"Tax Returns\", \"Bookkeeping\", \"Payroll Processing\",\n",
    "        \"Budgeting\", \"Forecasting\", \"Accounts Payable\", \"Accounts Receivable\", \"General Ledger\",\n",
    "        \"Cost Accounting\", \"Variance Analysis\", \"IFRS\", \"GAAP\", \"SAP\", \"QuickBooks\",\n",
    "        \"Microsoft Excel\", \"Tax Compliance\", \"Internal Controls\", \"Bank Reconciliation\",\n",
    "        \"Financial Reporting\", \"Cash Flow Management\"\n",
    "    ],\n",
    "    \"ENGINEERING\": [\n",
    "        \"CAD Software\", \"SolidWorks\", \"MATLAB\", \"Finite Element Analysis (FEA)\", \"Thermodynamics\",\n",
    "        \"Circuit Design\", \"Control Systems\", \"Structural Analysis\", \"Prototyping\", \"AutoCAD\",\n",
    "        \"PLC Programming\", \"Fluid Mechanics\", \"HVAC Design\", \"Project Management\", \"Lean Manufacturing\",\n",
    "        \"Quality Assurance\", \"Testing and Validation\", \"Renewable Energy Systems\", \"3D Printing\",\n",
    "        \"Technical Drawings\", \"Root Cause Analysis\", \"Failure Analysis\"\n",
    "    ],\n",
    "    \"CHEF\": [\n",
    "        \"Menu Planning\", \"Food Preparation\", \"Culinary Techniques\", \"Recipe Development\",\n",
    "        \"Inventory Management\", \"Food Safety\", \"Sanitation Standards\", \"Pastry Skills\",\n",
    "        \"Grill Station\", \"Sous Vide Cooking\", \"Knife Skills\", \"Garnishing\", \"Plating\",\n",
    "        \"Baking\", \"Kitchen Operations\", \"Staff Management\", \"Cost Control\",\n",
    "        \"Menu Costing\", \"Customer Service\", \"Catering\"\n",
    "    ],\n",
    "    \"AVIATION\": [\n",
    "        \"Flight Operations\", \"Air Traffic Control\", \"Aircraft Maintenance\", \"Navigation Systems\",\n",
    "        \"Safety Protocols\", \"Avionics\", \"Aerodynamics\", \"Flight Planning\", \"Ground Operations\",\n",
    "        \"Pilot Training\", \"Flight Scheduling\", \"Weather Analysis\", \"Emergency Procedures\",\n",
    "        \"Aircraft Systems\", \"Communication Systems\", \"FAA Regulations\", \"Flight Logs\",\n",
    "        \"Cabin Safety\", \"Fuel Management\", \"Airline Operations\"\n",
    "    ],\n",
    "    \"FITNESS\": [\n",
    "        \"Personal Training\", \"Exercise Programming\", \"Nutritional Guidance\", \"Strength Training\",\n",
    "        \"Cardio Workouts\", \"Group Classes\", \"Injury Prevention\", \"Stretching Techniques\",\n",
    "        \"Weight Loss Programs\", \"Muscle Building\", \"Yoga\", \"Pilates\", \"Fitness Assessments\",\n",
    "        \"Athletic Performance\", \"Sports Training\", \"Body Composition Analysis\",\n",
    "        \"Rehabilitation Exercises\", \"Motivational Coaching\", \"Customer Engagement\",\n",
    "        \"Wellness Education\"\n",
    "    ],\n",
    "    \"SALES\": [\n",
    "        \"Lead Generation\", \"Sales Forecasting\", \"Account Management\", \"Customer Retention\",\n",
    "        \"Cold Calling\", \"Closing Sales\", \"CRM Software\", \"Upselling\", \"Cross-Selling\",\n",
    "        \"Prospecting\", \"Negotiation\", \"Territory Management\", \"Sales Presentations\",\n",
    "        \"Pipeline Management\", \"Customer Insights\", \"Target Achievement\", \"Retail Operations\",\n",
    "        \"Direct Sales\", \"B2B Sales\", \"Sales Reporting\"\n",
    "    ],\n",
    "    \"BANKING\": [\n",
    "        \"Banking Operations\", \"Customer Relationship Management\", \"Loan Processing\", \"Compliance\",\n",
    "        \"Account Management\", \"Risk Assessment\", \"Mortgage Processing\", \"KYC Compliance\",\n",
    "        \"Investment Banking\", \"Credit Analysis\", \"Treasury Management\", \"Retail Banking\",\n",
    "        \"Commercial Banking\", \"Cash Handling\", \"Fraud Prevention\", \"Financial Regulations\",\n",
    "        \"Sales Management\", \"Customer Retention\"\n",
    "    ],\n",
    "    \"HEALTHCARE\": [\n",
    "        \"Patient Care\", \"Medical Records\", \"Clinical Assessments\", \"Pharmacology\",\n",
    "        \"Surgical Assistance\", \"Medical Terminology\", \"EMR Systems\", \"Health Education\",\n",
    "        \"Laboratory Testing\", \"Physical Therapy\", \"Medication Administration\",\n",
    "        \"Diagnostic Imaging\", \"Infection Control\", \"Critical Care\", \"Health Management\",\n",
    "        \"Patient Advocacy\", \"Mental Health\", \"Medical Billing\", \"Nutrition Counseling\",\n",
    "        \"Emergency Response\"\n",
    "    ],\n",
    "    \"CONSULTANT\": [\n",
    "        \"Market Research\", \"Process Improvement\", \"Stakeholder Communication\",\n",
    "        \"Performance Analysis\", \"Business Strategy\", \"Presentation Skills\",\n",
    "        \"Cost Optimization\", \"Industry Analysis\", \"Data-Driven Insights\",\n",
    "        \"Implementation Plans\", \"Change Management\", \"Project Delivery\", \"Benchmarking\",\n",
    "        \"Problem Solving\", \"Workflow Optimization\", \"Best Practices\", \"Client Relations\",\n",
    "        \"Policy Review\", \"System Analysis\", \"Technical Documentation\"\n",
    "    ],\n",
    "    \"CONSTRUCTION\": [\n",
    "        \"Project Management\", \"Blueprints\", \"Site Inspection\", \"Construction Safety\",\n",
    "        \"Cost Estimation\", \"Contract Management\", \"Building Codes\", \"Civil Engineering\",\n",
    "        \"HVAC Systems\", \"Electrical Wiring\", \"Carpentry\", \"Masonry\", \"Plumbing\",\n",
    "        \"Heavy Equipment Operation\", \"Structural Analysis\", \"Quality Assurance\",\n",
    "        \"Site Supervision\", \"Supply Chain Management\", \"Permitting\"\n",
    "    ],\n",
    "    \"PUBLIC-RELATIONS\": [\n",
    "        \"Media Relations\", \"Press Releases\", \"Corporate Communications\", \"Event Planning\",\n",
    "        \"Crisis Management\", \"Social Media Strategy\", \"Brand Management\", \"Content Creation\",\n",
    "        \"Public Speaking\", \"Reputation Management\", \"Community Outreach\", \"Stakeholder Engagement\",\n",
    "        \"Influencer Marketing\", \"Digital PR\", \"Storytelling\", \"Networking\", \"Analytics Reporting\"\n",
    "    ],\n",
    "    \"HR\": [\n",
    "        \"Recruitment\", \"Onboarding\", \"Employee Relations\", \"Payroll Processing\",\n",
    "        \"Training and Development\", \"Performance Management\", \"Benefits Administration\",\n",
    "        \"HRIS Systems\", \"Compliance\", \"Diversity and Inclusion\", \"Talent Acquisition\",\n",
    "        \"Employee Engagement\", \"HR Policies\", \"Conflict Resolution\", \"Succession Planning\"\n",
    "    ],\n",
    "    \"DESIGNER\": [\n",
    "        \"Graphic Design\", \"UX/UI Design\", \"Adobe Creative Suite\", \"Sketch\", \"Figma\",\n",
    "        \"Prototyping\", \"Wireframing\", \"Visual Design\", \"Typography\", \"Color Theory\",\n",
    "        \"Brand Identity\", \"Motion Graphics\", \"Web Design\", \"Interaction Design\",\n",
    "        \"Illustration\", \"Animation\", \"3D Modeling\", \"User Research\", \"Design Thinking\"\n",
    "    ],\n",
    "    \"ARTS\": [\n",
    "        \"Painting\", \"Sculpting\", \"Photography\", \"Sketching\", \"Digital Art\",\n",
    "        \"Art Curation\", \"Illustration\", \"Mixed Media\", \"Exhibition Planning\",\n",
    "        \"Art Installation\", \"Visual Storytelling\", \"Creative Direction\", \"Printmaking\",\n",
    "        \"Art Education\", \"Portfolio Development\"\n",
    "    ],\n",
    "    \"TEACHER\": [\n",
    "        \"Lesson Planning\", \"Classroom Management\", \"Curriculum Development\",\n",
    "        \"Student Assessment\", \"Differentiated Instruction\", \"ESL Instruction\",\n",
    "        \"Behavior Management\", \"Educational Technology\", \"Special Education\",\n",
    "        \"Parent Communication\", \"Subject Expertise\", \"Professional Development\",\n",
    "        \"Tutoring\", \"Learning Objectives\", \"Student Engagement\"\n",
    "    ],\n",
    "    \"APPAREL\": [\n",
    "        \"Fashion Design\", \"Textile Production\", \"Pattern Making\", \"Garment Construction\",\n",
    "        \"Retail Merchandising\", \"Trend Forecasting\", \"Fashion Illustration\", \"Apparel Marketing\",\n",
    "        \"Fabric Analysis\", \"Sewing Techniques\", \"Fashion Styling\", \"Clothing Alterations\",\n",
    "        \"Production Scheduling\", \"Quality Control\", \"Brand Development\"\n",
    "    ],\n",
    "    \"DIGITAL-MEDIA\": [\n",
    "        \"Content Creation\", \"SEO Optimization\", \"Social Media Strategy\", \"Email Marketing\",\n",
    "        \"Google Analytics\", \"Copywriting\", \"Video Editing\", \"Graphic Design\",\n",
    "        \"Influencer Marketing\", \"Pay-Per-Click Advertising\", \"Search Engine Marketing\",\n",
    "        \"Social Media Management\", \"Web Analytics\", \"Content Marketing\"\n",
    "    ],\n",
    "    \"AGRICULTURE\": [\n",
    "        \"Crop Management\", \"Farm Equipment\", \"Horticulture\", \"Soil Testing\", \"Irrigation Systems\",\n",
    "        \"Pest Control\", \"Agronomy\", \"Livestock Management\", \"Sustainable Farming\", \"Organic Certification\",\n",
    "        \"Farm Operations\", \"Yield Optimization\", \"Composting\", \"Agricultural Policy\", \"Crop Rotation\"\n",
    "    ],\n",
    "    \"AUTOMOBILE\": [\n",
    "        \"Vehicle Diagnostics\", \"Automotive Repair\", \"AutoCAD for Vehicles\", \"Electric Vehicles\",\n",
    "        \"Engine Tuning\", \"Vehicle Testing\", \"Automotive Engineering\", \"Vehicle Maintenance\",\n",
    "        \"Fuel Systems\", \"Hybrid Technology\", \"Brake Systems\", \"Suspension Systems\", \"Car Design\",\n",
    "        \"Vehicle Inspections\", \"Automobile Electronics\"\n",
    "    ],\n",
    "    \"BPO\": [\n",
    "        \"Customer Support\", \"Technical Support\", \"Call Handling\", \"CRM Software\", \"Quality Assurance\",\n",
    "        \"Inbound Calls\", \"Outbound Calls\", \"Data Entry\", \"Voice Process\", \"Non-Voice Process\",\n",
    "        \"Upselling\", \"Cross-Selling\", \"Email Support\", \"Chat Support\", \"Team Management\",\n",
    "        \"Process Optimization\", \"Shift Management\", \"Customer Retention\", \"Escalation Handling\"\n",
    "    ]\n",
    "}\n"
   ]
  },
  {
   "cell_type": "markdown",
   "metadata": {},
   "source": [
    "**From this point on we will be feature engineering**"
   ]
  },
  {
   "cell_type": "markdown",
   "metadata": {},
   "source": [
    "Using the predefined dictionary of keywords for 24 categories, we created an array for each resume where each index represents a category, and the value indicates the frequency of keywords found for that category.\n",
    "\n",
    "For example, when applied to five resumes, the resulting arrays showed high keyword counts at index 0, corresponding to the **Information Technology (IT)** category. The order of the categories in the array matches the order of the categories listed in the dictionary."
   ]
  },
  {
   "cell_type": "code",
   "execution_count": 12,
   "metadata": {},
   "outputs": [],
   "source": [
    "def calculate_scores(text, keywords_dict):\n",
    "    scores = []\n",
    "    for category, keywords in keywords_dict.items():\n",
    "        # Calculate the count of keywords in the text for each category\n",
    "        score = sum(text.lower().count(keyword.lower()) for keyword in keywords)\n",
    "        scores.append(score)\n",
    "    return scores\n",
    "\n",
    "# Apply the scoring function and store the result as a single column\n",
    "resumes[\"Category_Scores\"] = resumes[\"Resume_str\"].apply(lambda x: calculate_scores(x, resume_keywords_dict))"
   ]
  },
  {
   "cell_type": "code",
   "execution_count": 16,
   "metadata": {},
   "outputs": [
    {
     "name": "stdout",
     "output_type": "stream",
     "text": [
      "INFORMATION-TECHNOLOGY\n",
      "[8, 2, 0, 0, 0, 2, 4, 0, 0, 0, 0, 0, 1, 2, 2, 1, 0, 0, 2, 0, 0, 0, 0, 3]\n",
      "INFORMATION-TECHNOLOGY\n",
      "[1, 0, 1, 0, 0, 2, 0, 0, 0, 0, 0, 0, 1, 2, 0, 0, 1, 0, 0, 0, 0, 0, 0, 0]\n",
      "INFORMATION-TECHNOLOGY\n",
      "[0, 1, 0, 0, 0, 0, 1, 0, 0, 1, 1, 0, 2, 0, 0, 0, 0, 0, 1, 0, 0, 0, 0, 3]\n",
      "INFORMATION-TECHNOLOGY\n",
      "[5, 0, 9, 7, 5, 0, 0, 0, 0, 0, 8, 0, 10, 0, 0, 7, 0, 0, 0, 0, 0, 0, 0, 0]\n",
      "INFORMATION-TECHNOLOGY\n",
      "[14, 7, 1, 1, 0, 2, 0, 0, 0, 0, 1, 0, 2, 2, 7, 1, 0, 0, 0, 0, 0, 0, 0, 2]\n"
     ]
    }
   ],
   "source": [
    "\n",
    "for i in range(220,225): \n",
    "    print(resumes['Category'][i])\n",
    "    print(resumes['Category_Scores'][i])\n"
   ]
  },
  {
   "cell_type": "markdown",
   "metadata": {},
   "source": [
    "We are adding a new column called `SentenceTransform` to the dataset. This column will store the **384-dimensional matrix** generated by the SentenceTransformer model for each resume.\n",
    "\n",
    "These embeddings capture the **semantic meaning** of the text, meaning resumes with similar content will have embeddings that are closer to each other in higher-dimensional space. This makes the embeddings useful for identifying similar resumes based on their semantic structure and meaning."
   ]
  },
  {
   "cell_type": "code",
   "execution_count": 13,
   "metadata": {},
   "outputs": [
    {
     "name": "stderr",
     "output_type": "stream",
     "text": [
      "/usr/local/lib/python3.10/site-packages/tqdm/auto.py:21: TqdmWarning: IProgress not found. Please update jupyter and ipywidgets. See https://ipywidgets.readthedocs.io/en/stable/user_install.html\n",
      "  from .autonotebook import tqdm as notebook_tqdm\n",
      "100%|██████████| 2484/2484 [03:58<00:00, 10.40it/s]\n"
     ]
    }
   ],
   "source": [
    "from sentence_transformers import SentenceTransformer\n",
    "import pandas as pd\n",
    "from tqdm import tqdm\n",
    "\n",
    "\n",
    "# Initialize the SentenceTransformer model\n",
    "model = SentenceTransformer('all-MiniLM-L6-v2')\n",
    "\n",
    "#We use tqdm to see a progress bar as we apply (This column generation will take some time)\n",
    "tqdm.pandas()\n",
    "\n",
    "# Apply SentenceTransformer with a progress bar\n",
    "resumes['SentenceTransform'] = resumes['Resume_str'].progress_apply(lambda x: model.encode(x))"
   ]
  },
  {
   "cell_type": "code",
   "execution_count": 14,
   "metadata": {},
   "outputs": [
    {
     "name": "stdout",
     "output_type": "stream",
     "text": [
      "Index(['ID', 'Resume_str', 'Category', 'resume_length', 'Category_Scores',\n",
      "       'SentenceTransform'],\n",
      "      dtype='object')\n"
     ]
    }
   ],
   "source": [
    "print(resumes.columns)"
   ]
  },
  {
   "cell_type": "markdown",
   "metadata": {},
   "source": [
    "**Training the SVM model ()**"
   ]
  },
  {
   "cell_type": "code",
   "execution_count": 14,
   "metadata": {},
   "outputs": [],
   "source": [
    "from sklearn.model_selection import train_test_split\n",
    "from sklearn.preprocessing import LabelEncoder\n",
    "from sklearn.feature_extraction.text import TfidfVectorizer\n",
    "from sklearn.svm import SVC\n",
    "from sklearn.metrics import classification_report\n",
    "import numpy as np\n",
    "\n",
    "\n",
    "# Encode the category labels\n",
    "label_encoder = LabelEncoder()\n",
    "y = label_encoder.fit_transform(resumes['Category']) #Y is the encoded category (Numerically repersented)\n",
    "\n",
    "\n",
    "sentence_transform_matrix = np.vstack(resumes['SentenceTransform'].values) # Shape will be (n,384) \n",
    "category_scores_matrix = np.array(resumes['Category_Scores'].tolist())  #Shape will be (n,24) number of categoires \n",
    "resume_length = resumes['resume_length'].values.reshape(-1, 1) #Shape will be (n,1) where n is number of resumes\n",
    "\n",
    "#We will horizontally stack the the diffrent categories into one array (See explanation above)\n",
    "X = np.hstack([resume_length, category_scores_matrix, sentence_transform_matrix])\n",
    "\n",
    "\n",
    "\n"
   ]
  },
  {
   "cell_type": "code",
   "execution_count": 15,
   "metadata": {},
   "outputs": [],
   "source": [
    "X_train, X_test, y_train, y_test = train_test_split(X,y,test_size=0.2, random_state=42)"
   ]
  },
  {
   "cell_type": "markdown",
   "metadata": {},
   "source": [
    "**The following is the training / classfication report for the LogisticRegression**\n"
   ]
  },
  {
   "cell_type": "code",
   "execution_count": 23,
   "metadata": {},
   "outputs": [
    {
     "name": "stdout",
     "output_type": "stream",
     "text": [
      "                        precision    recall  f1-score   support\n",
      "\n",
      "            ACCOUNTANT       1.00      0.90      0.95        29\n",
      "              ADVOCATE       0.78      0.70      0.74        30\n",
      "           AGRICULTURE       0.18      0.25      0.21         8\n",
      "               APPAREL       0.53      0.40      0.46        20\n",
      "                  ARTS       0.24      0.28      0.26        18\n",
      "            AUTOMOBILE       0.10      0.17      0.12         6\n",
      "              AVIATION       0.56      0.67      0.61        21\n",
      "               BANKING       0.59      0.70      0.64        23\n",
      "                   BPO       0.00      0.00      0.00         2\n",
      "  BUSINESS-DEVELOPMENT       0.95      0.74      0.83        27\n",
      "                  CHEF       0.86      0.79      0.83        24\n",
      "          CONSTRUCTION       0.93      0.76      0.84        34\n",
      "            CONSULTANT       0.81      0.65      0.72        20\n",
      "              DESIGNER       0.85      0.89      0.87        19\n",
      "         DIGITAL-MEDIA       0.79      0.76      0.78        25\n",
      "           ENGINEERING       0.77      0.81      0.79        21\n",
      "               FINANCE       0.84      0.84      0.84        19\n",
      "               FITNESS       0.45      0.47      0.46        19\n",
      "            HEALTHCARE       0.48      0.55      0.51        20\n",
      "                    HR       0.84      0.89      0.86        18\n",
      "INFORMATION-TECHNOLOGY       0.68      0.81      0.74        26\n",
      "      PUBLIC-RELATIONS       0.56      0.53      0.55        17\n",
      "                 SALES       0.78      0.72      0.75        29\n",
      "               TEACHER       0.79      0.86      0.83        22\n",
      "\n",
      "              accuracy                           0.70       497\n",
      "             macro avg       0.64      0.63      0.63       497\n",
      "          weighted avg       0.72      0.70      0.70       497\n",
      "\n"
     ]
    }
   ],
   "source": [
    "from sklearn.preprocessing import StandardScaler\n",
    "from sklearn.linear_model import LogisticRegression\n",
    "\n",
    "scaler = StandardScaler()\n",
    "X_train_scaled = scaler.fit_transform(X_train)\n",
    "X_test_scaled = scaler.transform(X_test)\n",
    "\n",
    "model = LogisticRegression(max_iter=1000, penalty='l2', solver='lbfgs')\n",
    "model.fit(X_train_scaled, y_train)\n",
    "\n",
    "y_pred = model.predict(X_test_scaled)\n",
    "\n",
    "# Print the classification report\n",
    "print(classification_report(y_test, y_pred, target_names=label_encoder.classes_))\n"
   ]
  },
  {
   "cell_type": "markdown",
   "metadata": {},
   "source": [
    "**The below is the Basic RandomForestClassifier Model Performance\n",
    "Refer to the Confusion Matrix**"
   ]
  },
  {
   "cell_type": "code",
   "execution_count": 22,
   "metadata": {},
   "outputs": [
    {
     "name": "stderr",
     "output_type": "stream",
     "text": [
      "[Parallel(n_jobs=1)]: Done  49 tasks      | elapsed:    2.9s\n"
     ]
    },
    {
     "name": "stdout",
     "output_type": "stream",
     "text": [
      "Classification Report:\n",
      "                        precision    recall  f1-score   support\n",
      "\n",
      "            ACCOUNTANT       0.87      0.93      0.90        29\n",
      "              ADVOCATE       0.59      0.67      0.62        30\n",
      "           AGRICULTURE       0.33      0.12      0.18         8\n",
      "               APPAREL       0.42      0.25      0.31        20\n",
      "                  ARTS       0.00      0.00      0.00        18\n",
      "            AUTOMOBILE       0.00      0.00      0.00         6\n",
      "              AVIATION       0.59      0.76      0.67        21\n",
      "               BANKING       0.72      0.57      0.63        23\n",
      "                   BPO       0.00      0.00      0.00         2\n",
      "  BUSINESS-DEVELOPMENT       0.86      0.93      0.89        27\n",
      "                  CHEF       0.91      0.83      0.87        24\n",
      "          CONSTRUCTION       0.87      0.79      0.83        34\n",
      "            CONSULTANT       0.71      0.50      0.59        20\n",
      "              DESIGNER       0.81      0.89      0.85        19\n",
      "         DIGITAL-MEDIA       0.94      0.60      0.73        25\n",
      "           ENGINEERING       0.53      0.76      0.63        21\n",
      "               FINANCE       0.62      0.84      0.71        19\n",
      "               FITNESS       0.62      0.42      0.50        19\n",
      "            HEALTHCARE       0.38      0.55      0.45        20\n",
      "                    HR       0.76      0.89      0.82        18\n",
      "INFORMATION-TECHNOLOGY       0.68      0.88      0.77        26\n",
      "      PUBLIC-RELATIONS       0.53      0.53      0.53        17\n",
      "                 SALES       0.74      0.79      0.77        29\n",
      "               TEACHER       0.60      0.82      0.69        22\n",
      "\n",
      "              accuracy                           0.68       497\n",
      "             macro avg       0.59      0.60      0.58       497\n",
      "          weighted avg       0.66      0.68      0.66       497\n",
      "\n"
     ]
    },
    {
     "name": "stderr",
     "output_type": "stream",
     "text": [
      "[Parallel(n_jobs=1)]: Done  49 tasks      | elapsed:    0.0s\n",
      "/usr/local/lib/python3.10/site-packages/sklearn/metrics/_classification.py:1531: UndefinedMetricWarning: Precision is ill-defined and being set to 0.0 in labels with no predicted samples. Use `zero_division` parameter to control this behavior.\n",
      "  _warn_prf(average, modifier, f\"{metric.capitalize()} is\", len(result))\n",
      "/usr/local/lib/python3.10/site-packages/sklearn/metrics/_classification.py:1531: UndefinedMetricWarning: Precision is ill-defined and being set to 0.0 in labels with no predicted samples. Use `zero_division` parameter to control this behavior.\n",
      "  _warn_prf(average, modifier, f\"{metric.capitalize()} is\", len(result))\n",
      "/usr/local/lib/python3.10/site-packages/sklearn/metrics/_classification.py:1531: UndefinedMetricWarning: Precision is ill-defined and being set to 0.0 in labels with no predicted samples. Use `zero_division` parameter to control this behavior.\n",
      "  _warn_prf(average, modifier, f\"{metric.capitalize()} is\", len(result))\n"
     ]
    }
   ],
   "source": [
    "from sklearn.ensemble import RandomForestClassifier\n",
    "\n",
    "# Initialize the Random Forest classifier with verbose output\n",
    "rf_classifier = RandomForestClassifier(n_estimators=100, random_state=42, verbose=1)\n",
    "\n",
    "# Train the classifier\n",
    "rf_classifier.fit(X_train, y_train)\n",
    "\n",
    "from sklearn.metrics import classification_report\n",
    "\n",
    "# Predict the labels for the test set\n",
    "y_pred = rf_classifier.predict(X_test)\n",
    "\n",
    "# Generate the classification report\n",
    "report = classification_report(y_test, y_pred, target_names=label_encoder.classes_)\n",
    "\n",
    "# Display the report\n",
    "print(\"Classification Report:\")\n",
    "print(report)"
   ]
  },
  {
   "cell_type": "markdown",
   "metadata": {},
   "source": [
    "We have tested LogisticRegression, RandomForest, SVC (both rbf,linear kernel), and XGBoost.\n",
    "\n",
    "We only show the LogisticRegression and RandomForest as both SVC and XGBoost models were to computationally expensive to run (further details on the Readme).\n",
    "\n",
    "Thus, we decided to stick with the basic LogisticRegression model and Hyptertune"
   ]
  },
  {
   "cell_type": "markdown",
   "metadata": {},
   "source": [
    "****The following below is the hyptertunning of the LogisticRegression Model****"
   ]
  },
  {
   "cell_type": "code",
   "execution_count": 28,
   "metadata": {},
   "outputs": [
    {
     "name": "stdout",
     "output_type": "stream",
     "text": [
      "Fitting 5 folds for each of 20 candidates, totalling 100 fits\n"
     ]
    },
    {
     "name": "stderr",
     "output_type": "stream",
     "text": [
      "huggingface/tokenizers: The current process just got forked, after parallelism has already been used. Disabling parallelism to avoid deadlocks...\n",
      "To disable this warning, you can either:\n",
      "\t- Avoid using `tokenizers` before the fork if possible\n",
      "\t- Explicitly set the environment variable TOKENIZERS_PARALLELISM=(true | false)\n",
      "huggingface/tokenizers: The current process just got forked, after parallelism has already been used. Disabling parallelism to avoid deadlocks...\n",
      "To disable this warning, you can either:\n",
      "\t- Avoid using `tokenizers` before the fork if possible\n",
      "\t- Explicitly set the environment variable TOKENIZERS_PARALLELISM=(true | false)\n",
      "huggingface/tokenizers: The current process just got forked, after parallelism has already been used. Disabling parallelism to avoid deadlocks...\n",
      "To disable this warning, you can either:\n",
      "\t- Avoid using `tokenizers` before the fork if possible\n",
      "\t- Explicitly set the environment variable TOKENIZERS_PARALLELISM=(true | false)\n",
      "huggingface/tokenizers: The current process just got forked, after parallelism has already been used. Disabling parallelism to avoid deadlocks...\n",
      "To disable this warning, you can either:\n",
      "\t- Avoid using `tokenizers` before the fork if possible\n",
      "\t- Explicitly set the environment variable TOKENIZERS_PARALLELISM=(true | false)\n",
      "huggingface/tokenizers: The current process just got forked, after parallelism has already been used. Disabling parallelism to avoid deadlocks...\n",
      "To disable this warning, you can either:\n",
      "\t- Avoid using `tokenizers` before the fork if possible\n",
      "\t- Explicitly set the environment variable TOKENIZERS_PARALLELISM=(true | false)\n",
      "huggingface/tokenizers: The current process just got forked, after parallelism has already been used. Disabling parallelism to avoid deadlocks...\n",
      "To disable this warning, you can either:\n",
      "\t- Avoid using `tokenizers` before the fork if possible\n",
      "\t- Explicitly set the environment variable TOKENIZERS_PARALLELISM=(true | false)\n",
      "huggingface/tokenizers: The current process just got forked, after parallelism has already been used. Disabling parallelism to avoid deadlocks...\n",
      "To disable this warning, you can either:\n",
      "\t- Avoid using `tokenizers` before the fork if possible\n",
      "\t- Explicitly set the environment variable TOKENIZERS_PARALLELISM=(true | false)\n",
      "huggingface/tokenizers: The current process just got forked, after parallelism has already been used. Disabling parallelism to avoid deadlocks...\n",
      "To disable this warning, you can either:\n",
      "\t- Avoid using `tokenizers` before the fork if possible\n",
      "\t- Explicitly set the environment variable TOKENIZERS_PARALLELISM=(true | false)\n",
      "huggingface/tokenizers: The current process just got forked, after parallelism has already been used. Disabling parallelism to avoid deadlocks...\n",
      "To disable this warning, you can either:\n",
      "\t- Avoid using `tokenizers` before the fork if possible\n",
      "\t- Explicitly set the environment variable TOKENIZERS_PARALLELISM=(true | false)\n",
      "huggingface/tokenizers: The current process just got forked, after parallelism has already been used. Disabling parallelism to avoid deadlocks...\n",
      "To disable this warning, you can either:\n",
      "\t- Avoid using `tokenizers` before the fork if possible\n",
      "\t- Explicitly set the environment variable TOKENIZERS_PARALLELISM=(true | false)\n",
      "huggingface/tokenizers: The current process just got forked, after parallelism has already been used. Disabling parallelism to avoid deadlocks...\n",
      "To disable this warning, you can either:\n",
      "\t- Avoid using `tokenizers` before the fork if possible\n",
      "\t- Explicitly set the environment variable TOKENIZERS_PARALLELISM=(true | false)\n",
      "huggingface/tokenizers: The current process just got forked, after parallelism has already been used. Disabling parallelism to avoid deadlocks...\n",
      "To disable this warning, you can either:\n",
      "\t- Avoid using `tokenizers` before the fork if possible\n",
      "\t- Explicitly set the environment variable TOKENIZERS_PARALLELISM=(true | false)\n"
     ]
    },
    {
     "name": "stdout",
     "output_type": "stream",
     "text": [
      "[CV 2/5] END C=0.01, class_weight=None, penalty=l2, solver=lbfgs;, score=0.708 total time=   0.8s\n",
      "[CV 4/5] END C=0.01, class_weight=None, penalty=l2, solver=lbfgs;, score=0.694 total time=   0.8s\n",
      "[CV 3/5] END C=0.01, class_weight=None, penalty=l2, solver=lbfgs;, score=0.690 total time=   0.8s\n",
      "[CV 1/5] END C=0.01, class_weight=None, penalty=l2, solver=lbfgs;, score=0.689 total time=   0.8s\n",
      "[CV 5/5] END C=0.01, class_weight=None, penalty=l2, solver=lbfgs;, score=0.722 total time=   0.7s\n",
      "[CV 2/5] END C=0.01, class_weight=balanced, penalty=l2, solver=lbfgs;, score=0.714 total time=   0.7s\n",
      "[CV 1/5] END C=0.01, class_weight=balanced, penalty=l2, solver=lbfgs;, score=0.687 total time=   0.7s\n",
      "[CV 5/5] END C=0.01, class_weight=balanced, penalty=l2, solver=lbfgs;, score=0.735 total time=   0.7s\n",
      "[CV 4/5] END C=0.01, class_weight=balanced, penalty=l2, solver=lbfgs;, score=0.702 total time=   0.7s\n",
      "[CV 3/5] END C=0.01, class_weight=balanced, penalty=l2, solver=lbfgs;, score=0.681 total time=   0.7s\n",
      "[CV 2/5] END C=0.1, class_weight=None, penalty=l2, solver=lbfgs;, score=0.704 total time=   0.8s\n",
      "[CV 1/5] END C=0.1, class_weight=None, penalty=l2, solver=lbfgs;, score=0.660 total time=   0.8s\n",
      "[CV 3/5] END C=0.1, class_weight=None, penalty=l2, solver=lbfgs;, score=0.684 total time=   0.9s\n",
      "[CV 4/5] END C=0.1, class_weight=None, penalty=l2, solver=lbfgs;, score=0.713 total time=   0.8s\n",
      "[CV 5/5] END C=0.1, class_weight=None, penalty=l2, solver=lbfgs;, score=0.695 total time=   0.7s\n",
      "[CV 5/5] END C=0.01, class_weight=None, penalty=l2, solver=saga;, score=0.722 total time=  26.2s\n",
      "[CV 1/5] END C=0.01, class_weight=None, penalty=l2, solver=saga;, score=0.689 total time=  26.8s\n",
      "[CV 2/5] END C=0.01, class_weight=None, penalty=l2, solver=saga;, score=0.708 total time=  27.3s\n",
      "[CV 1/5] END C=0.01, class_weight=balanced, penalty=l2, solver=saga;, score=0.687 total time=  27.4s\n",
      "[CV 5/5] END C=0.01, class_weight=balanced, penalty=l2, solver=saga;, score=0.737 total time=  26.8s\n",
      "[CV 2/5] END C=0.01, class_weight=balanced, penalty=l2, solver=saga;, score=0.713 total time=  27.4s\n",
      "[CV 1/5] END C=0.1, class_weight=balanced, penalty=l2, solver=lbfgs;, score=0.659 total time=   0.7s\n",
      "[CV 2/5] END C=0.1, class_weight=balanced, penalty=l2, solver=lbfgs;, score=0.696 total time=   0.7s\n",
      "[CV 3/5] END C=0.1, class_weight=balanced, penalty=l2, solver=lbfgs;, score=0.686 total time=   0.7s\n",
      "[CV 4/5] END C=0.01, class_weight=balanced, penalty=l2, solver=saga;, score=0.702 total time=  27.7s\n",
      "[CV 4/5] END C=0.1, class_weight=balanced, penalty=l2, solver=lbfgs;, score=0.708 total time=   0.8s\n",
      "[CV 5/5] END C=0.1, class_weight=balanced, penalty=l2, solver=lbfgs;, score=0.692 total time=   0.8s\n",
      "[CV 3/5] END C=0.01, class_weight=None, penalty=l2, solver=saga;, score=0.690 total time=  29.6s\n",
      "[CV 4/5] END C=0.01, class_weight=None, penalty=l2, solver=saga;, score=0.694 total time=  30.1s\n",
      "[CV 1/5] END C=1, class_weight=None, penalty=l2, solver=lbfgs;, score=0.642 total time=   0.7s\n",
      "[CV 3/5] END C=0.01, class_weight=balanced, penalty=l2, solver=saga;, score=0.681 total time=  30.1s\n",
      "[CV 2/5] END C=1, class_weight=None, penalty=l2, solver=lbfgs;, score=0.701 total time=   0.7s\n",
      "[CV 3/5] END C=1, class_weight=None, penalty=l2, solver=lbfgs;, score=0.682 total time=   0.7s\n",
      "[CV 4/5] END C=1, class_weight=None, penalty=l2, solver=lbfgs;, score=0.694 total time=   0.7s\n",
      "[CV 5/5] END C=1, class_weight=None, penalty=l2, solver=lbfgs;, score=0.687 total time=   0.7s\n",
      "[CV 1/5] END C=0.1, class_weight=None, penalty=l2, solver=saga;, score=0.664 total time=  52.0s\n",
      "[CV 2/5] END C=0.1, class_weight=None, penalty=l2, solver=saga;, score=0.704 total time=  57.5s\n",
      "[CV 5/5] END C=0.1, class_weight=None, penalty=l2, solver=saga;, score=0.692 total time=  53.5s\n",
      "[CV 5/5] END C=0.1, class_weight=balanced, penalty=l2, solver=saga;, score=0.689 total time=  53.0s\n",
      "[CV 1/5] END C=1, class_weight=balanced, penalty=l2, solver=lbfgs;, score=0.644 total time=   0.6s\n",
      "[CV 2/5] END C=1, class_weight=balanced, penalty=l2, solver=lbfgs;, score=0.708 total time=   0.7s\n",
      "[CV 1/5] END C=0.1, class_weight=balanced, penalty=l2, solver=saga;, score=0.665 total time=  55.5s\n",
      "[CV 3/5] END C=1, class_weight=balanced, penalty=l2, solver=lbfgs;, score=0.678 total time=   0.7s\n",
      "[CV 4/5] END C=1, class_weight=balanced, penalty=l2, solver=lbfgs;, score=0.695 total time=   0.6s\n",
      "[CV 5/5] END C=1, class_weight=balanced, penalty=l2, solver=lbfgs;, score=0.687 total time=   0.6s\n",
      "[CV 4/5] END C=0.1, class_weight=None, penalty=l2, solver=saga;, score=0.709 total time=  59.9s\n",
      "[CV 3/5] END C=0.1, class_weight=None, penalty=l2, solver=saga;, score=0.693 total time= 1.0min\n",
      "[CV 3/5] END C=0.1, class_weight=balanced, penalty=l2, solver=saga;, score=0.691 total time=  59.7s\n",
      "[CV 4/5] END C=0.1, class_weight=balanced, penalty=l2, solver=saga;, score=0.703 total time= 1.0min\n",
      "[CV 1/5] END C=10, class_weight=None, penalty=l2, solver=lbfgs;, score=0.643 total time=   0.3s\n",
      "[CV 2/5] END C=10, class_weight=None, penalty=l2, solver=lbfgs;, score=0.686 total time=   0.3s\n",
      "[CV 3/5] END C=10, class_weight=None, penalty=l2, solver=lbfgs;, score=0.675 total time=   0.4s\n",
      "[CV 2/5] END C=0.1, class_weight=balanced, penalty=l2, solver=saga;, score=0.701 total time= 1.0min\n",
      "[CV 4/5] END C=10, class_weight=None, penalty=l2, solver=lbfgs;, score=0.675 total time=   0.4s\n",
      "[CV 5/5] END C=10, class_weight=None, penalty=l2, solver=lbfgs;, score=0.678 total time=   0.3s\n",
      "[CV 1/5] END C=1, class_weight=None, penalty=l2, solver=saga;, score=0.643 total time= 1.2min\n",
      "[CV 2/5] END C=1, class_weight=None, penalty=l2, solver=saga;, score=0.708 total time= 1.4min\n",
      "[CV 4/5] END C=1, class_weight=None, penalty=l2, solver=saga;, score=0.687 total time= 1.1min\n",
      "[CV 3/5] END C=1, class_weight=None, penalty=l2, solver=saga;, score=0.684 total time= 1.2min\n",
      "[CV 1/5] END C=10, class_weight=balanced, penalty=l2, solver=lbfgs;, score=0.646 total time=   0.3s\n",
      "[CV 2/5] END C=10, class_weight=balanced, penalty=l2, solver=lbfgs;, score=0.696 total time=   0.4s\n",
      "[CV 3/5] END C=10, class_weight=balanced, penalty=l2, solver=lbfgs;, score=0.680 total time=   0.3s\n",
      "[CV 4/5] END C=10, class_weight=balanced, penalty=l2, solver=lbfgs;, score=0.684 total time=   0.4s\n",
      "[CV 5/5] END C=10, class_weight=balanced, penalty=l2, solver=lbfgs;, score=0.675 total time=   0.4s\n",
      "[CV 5/5] END C=1, class_weight=None, penalty=l2, solver=saga;, score=0.686 total time= 1.1min\n",
      "[CV 4/5] END C=1, class_weight=balanced, penalty=l2, solver=saga;, score=0.683 total time= 1.1min\n",
      "[CV 5/5] END C=1, class_weight=balanced, penalty=l2, solver=saga;, score=0.686 total time= 1.1min\n",
      "[CV 3/5] END C=1, class_weight=balanced, penalty=l2, solver=saga;, score=0.687 total time= 1.2min\n",
      "[CV 1/5] END C=1, class_weight=balanced, penalty=l2, solver=saga;, score=0.643 total time= 1.4min\n",
      "[CV 1/5] END C=100, class_weight=None, penalty=l2, solver=lbfgs;, score=0.628 total time=   0.2s\n",
      "[CV 2/5] END C=100, class_weight=None, penalty=l2, solver=lbfgs;, score=0.683 total time=   0.2s\n",
      "[CV 3/5] END C=100, class_weight=None, penalty=l2, solver=lbfgs;, score=0.654 total time=   0.2s\n",
      "[CV 4/5] END C=100, class_weight=None, penalty=l2, solver=lbfgs;, score=0.669 total time=   0.2s\n",
      "[CV 5/5] END C=100, class_weight=None, penalty=l2, solver=lbfgs;, score=0.683 total time=   0.2s\n",
      "[CV 2/5] END C=1, class_weight=balanced, penalty=l2, solver=saga;, score=0.705 total time= 1.4min\n",
      "[CV 1/5] END C=10, class_weight=None, penalty=l2, solver=saga;, score=0.643 total time= 1.9min\n",
      "[CV 2/5] END C=10, class_weight=None, penalty=l2, solver=saga;, score=0.708 total time= 2.0min\n",
      "[CV 3/5] END C=10, class_weight=None, penalty=l2, solver=saga;, score=0.682 total time= 2.0min\n",
      "[CV 4/5] END C=10, class_weight=None, penalty=l2, solver=saga;, score=0.678 total time= 2.0min\n",
      "[CV 1/5] END C=100, class_weight=balanced, penalty=l2, solver=lbfgs;, score=0.631 total time=   0.2s\n",
      "[CV 2/5] END C=100, class_weight=balanced, penalty=l2, solver=lbfgs;, score=0.684 total time=   0.2s\n",
      "[CV 3/5] END C=100, class_weight=balanced, penalty=l2, solver=lbfgs;, score=0.656 total time=   0.2s\n",
      "[CV 4/5] END C=100, class_weight=balanced, penalty=l2, solver=lbfgs;, score=0.672 total time=   0.2s\n",
      "[CV 5/5] END C=100, class_weight=balanced, penalty=l2, solver=lbfgs;, score=0.677 total time=   0.2s\n",
      "[CV 1/5] END C=10, class_weight=balanced, penalty=l2, solver=saga;, score=0.632 total time= 1.9min\n",
      "[CV 5/5] END C=10, class_weight=None, penalty=l2, solver=saga;, score=0.684 total time= 2.0min\n",
      "[CV 2/5] END C=10, class_weight=balanced, penalty=l2, solver=saga;, score=0.707 total time= 1.9min\n",
      "[CV 3/5] END C=10, class_weight=balanced, penalty=l2, solver=saga;, score=0.686 total time= 1.8min\n",
      "[CV 4/5] END C=10, class_weight=balanced, penalty=l2, solver=saga;, score=0.676 total time= 1.8min\n",
      "[CV 5/5] END C=10, class_weight=balanced, penalty=l2, solver=saga;, score=0.681 total time= 1.9min\n"
     ]
    },
    {
     "name": "stderr",
     "output_type": "stream",
     "text": [
      "/usr/local/lib/python3.10/site-packages/sklearn/linear_model/_sag.py:349: ConvergenceWarning: The max_iter was reached which means the coef_ did not converge\n",
      "  warnings.warn(\n"
     ]
    },
    {
     "name": "stdout",
     "output_type": "stream",
     "text": [
      "[CV 1/5] END C=100, class_weight=None, penalty=l2, solver=saga;, score=0.642 total time= 2.0min\n"
     ]
    },
    {
     "name": "stderr",
     "output_type": "stream",
     "text": [
      "/usr/local/lib/python3.10/site-packages/sklearn/linear_model/_sag.py:349: ConvergenceWarning: The max_iter was reached which means the coef_ did not converge\n",
      "  warnings.warn(\n"
     ]
    },
    {
     "name": "stdout",
     "output_type": "stream",
     "text": [
      "[CV 2/5] END C=100, class_weight=None, penalty=l2, solver=saga;, score=0.695 total time= 2.0min\n"
     ]
    },
    {
     "name": "stderr",
     "output_type": "stream",
     "text": [
      "/usr/local/lib/python3.10/site-packages/sklearn/linear_model/_sag.py:349: ConvergenceWarning: The max_iter was reached which means the coef_ did not converge\n",
      "  warnings.warn(\n"
     ]
    },
    {
     "name": "stdout",
     "output_type": "stream",
     "text": [
      "[CV 3/5] END C=100, class_weight=None, penalty=l2, solver=saga;, score=0.682 total time= 1.9min\n"
     ]
    },
    {
     "name": "stderr",
     "output_type": "stream",
     "text": [
      "/usr/local/lib/python3.10/site-packages/sklearn/linear_model/_sag.py:349: ConvergenceWarning: The max_iter was reached which means the coef_ did not converge\n",
      "  warnings.warn(\n"
     ]
    },
    {
     "name": "stdout",
     "output_type": "stream",
     "text": [
      "[CV 4/5] END C=100, class_weight=None, penalty=l2, solver=saga;, score=0.675 total time= 1.8min\n"
     ]
    },
    {
     "name": "stderr",
     "output_type": "stream",
     "text": [
      "/usr/local/lib/python3.10/site-packages/sklearn/linear_model/_sag.py:349: ConvergenceWarning: The max_iter was reached which means the coef_ did not converge\n",
      "  warnings.warn(\n"
     ]
    },
    {
     "name": "stdout",
     "output_type": "stream",
     "text": [
      "[CV 5/5] END C=100, class_weight=None, penalty=l2, solver=saga;, score=0.681 total time= 1.8min\n"
     ]
    },
    {
     "name": "stderr",
     "output_type": "stream",
     "text": [
      "/usr/local/lib/python3.10/site-packages/sklearn/linear_model/_sag.py:349: ConvergenceWarning: The max_iter was reached which means the coef_ did not converge\n",
      "  warnings.warn(\n"
     ]
    },
    {
     "name": "stdout",
     "output_type": "stream",
     "text": [
      "[CV 1/5] END C=100, class_weight=balanced, penalty=l2, solver=saga;, score=0.641 total time= 1.7min\n"
     ]
    },
    {
     "name": "stderr",
     "output_type": "stream",
     "text": [
      "/usr/local/lib/python3.10/site-packages/sklearn/linear_model/_sag.py:349: ConvergenceWarning: The max_iter was reached which means the coef_ did not converge\n",
      "  warnings.warn(\n"
     ]
    },
    {
     "name": "stdout",
     "output_type": "stream",
     "text": [
      "[CV 2/5] END C=100, class_weight=balanced, penalty=l2, solver=saga;, score=0.702 total time= 1.6min\n"
     ]
    },
    {
     "name": "stderr",
     "output_type": "stream",
     "text": [
      "/usr/local/lib/python3.10/site-packages/sklearn/linear_model/_sag.py:349: ConvergenceWarning: The max_iter was reached which means the coef_ did not converge\n",
      "  warnings.warn(\n"
     ]
    },
    {
     "name": "stdout",
     "output_type": "stream",
     "text": [
      "[CV 3/5] END C=100, class_weight=balanced, penalty=l2, solver=saga;, score=0.687 total time= 1.6min\n"
     ]
    },
    {
     "name": "stderr",
     "output_type": "stream",
     "text": [
      "/usr/local/lib/python3.10/site-packages/sklearn/linear_model/_sag.py:349: ConvergenceWarning: The max_iter was reached which means the coef_ did not converge\n",
      "  warnings.warn(\n"
     ]
    },
    {
     "name": "stdout",
     "output_type": "stream",
     "text": [
      "[CV 4/5] END C=100, class_weight=balanced, penalty=l2, solver=saga;, score=0.669 total time= 1.5min\n"
     ]
    },
    {
     "name": "stderr",
     "output_type": "stream",
     "text": [
      "/usr/local/lib/python3.10/site-packages/sklearn/linear_model/_sag.py:349: ConvergenceWarning: The max_iter was reached which means the coef_ did not converge\n",
      "  warnings.warn(\n"
     ]
    },
    {
     "name": "stdout",
     "output_type": "stream",
     "text": [
      "[CV 5/5] END C=100, class_weight=balanced, penalty=l2, solver=saga;, score=0.686 total time= 1.5min\n",
      "Best Parameters: {'C': 0.01, 'class_weight': 'balanced', 'penalty': 'l2', 'solver': 'saga'}\n",
      "Best Weighted F1 Score: 0.703968485437143\n",
      "                        precision    recall  f1-score   support\n",
      "\n",
      "            ACCOUNTANT       1.00      0.93      0.96        29\n",
      "              ADVOCATE       0.79      0.73      0.76        30\n",
      "           AGRICULTURE       0.18      0.25      0.21         8\n",
      "               APPAREL       0.45      0.50      0.48        20\n",
      "                  ARTS       0.25      0.11      0.15        18\n",
      "            AUTOMOBILE       0.07      0.17      0.10         6\n",
      "              AVIATION       0.71      0.71      0.71        21\n",
      "               BANKING       0.76      0.70      0.73        23\n",
      "                   BPO       0.17      0.50      0.25         2\n",
      "  BUSINESS-DEVELOPMENT       0.95      0.78      0.86        27\n",
      "                  CHEF       0.90      0.79      0.84        24\n",
      "          CONSTRUCTION       0.93      0.76      0.84        34\n",
      "            CONSULTANT       0.93      0.70      0.80        20\n",
      "              DESIGNER       0.78      0.95      0.86        19\n",
      "         DIGITAL-MEDIA       0.86      0.76      0.81        25\n",
      "           ENGINEERING       0.79      0.90      0.84        21\n",
      "               FINANCE       0.81      0.89      0.85        19\n",
      "               FITNESS       0.60      0.47      0.53        19\n",
      "            HEALTHCARE       0.46      0.55      0.50        20\n",
      "                    HR       0.78      1.00      0.88        18\n",
      "INFORMATION-TECHNOLOGY       0.78      0.96      0.86        26\n",
      "      PUBLIC-RELATIONS       0.50      0.47      0.48        17\n",
      "                 SALES       0.81      0.76      0.79        29\n",
      "               TEACHER       0.77      0.91      0.83        22\n",
      "\n",
      "              accuracy                           0.73       497\n",
      "             macro avg       0.67      0.68      0.66       497\n",
      "          weighted avg       0.75      0.73      0.73       497\n",
      "\n"
     ]
    }
   ],
   "source": [
    "from sklearn.model_selection import GridSearchCV\n",
    "from sklearn.linear_model import LogisticRegression\n",
    "from sklearn.metrics import classification_report\n",
    "from sklearn.preprocessing import StandardScaler\n",
    "\n",
    "# Scale the data\n",
    "scaler = StandardScaler()\n",
    "X_train_scaled = scaler.fit_transform(X_train)\n",
    "X_test_scaled = scaler.transform(X_test)\n",
    "\n",
    "# Initialize Logistic Regression model\n",
    "logistic_model = LogisticRegression(max_iter=1000)\n",
    "\n",
    "# Define hyperparameter grid\n",
    "param_grid = {\n",
    "    'C': [0.01, 0.1, 1, 10, 100],              # Regularization strength\n",
    "    'penalty': ['l2'],                         # Regularization type\n",
    "    'solver': ['lbfgs', 'saga'],               # Solvers\n",
    "    'class_weight': [None, 'balanced']         # Handle class imbalance\n",
    "}\n",
    "\n",
    "# Perform GridSearchCV\n",
    "grid_search = GridSearchCV(\n",
    "    estimator=logistic_model,\n",
    "    param_grid=param_grid,\n",
    "    scoring='f1_weighted',  # Weighted F1-score to handle imbalance\n",
    "    cv=5,                   # 5-fold cross-validation\n",
    "    verbose=3,              # Highest verbosity to track progress\n",
    "    n_jobs=-1               # Use all available CPU cores\n",
    ")\n",
    "\n",
    "# Fit the GridSearchCV model\n",
    "grid_search.fit(X_train_scaled, y_train)\n",
    "\n",
    "# Print best parameters and score\n",
    "print(\"Best Parameters:\", grid_search.best_params_)\n",
    "print(\"Best Weighted F1 Score:\", grid_search.best_score_)\n",
    "\n",
    "# Predict on the test set using the best model\n",
    "best_model = grid_search.best_estimator_\n",
    "y_pred = best_model.predict(X_test_scaled)\n",
    "\n",
    "# Evaluate the best model on the test set\n",
    "print(classification_report(y_test, y_pred, target_names=label_encoder.classes_))\n",
    "\n",
    "\n",
    "\n"
   ]
  },
  {
   "cell_type": "markdown",
   "metadata": {},
   "source": [
    "After performing hyperparameter tuning using GridSearchCV, the following parameters were identified as optimal:\n",
    "\n",
    "**C=0.01**: A low regularization strength to prevent overfitting on high-dimensional data.\n",
    "\n",
    "**class_weight='balanced'**: Ensures that minority classes receive higher importance during training, improving F1-scores for underrepresented categories.\n",
    "\n",
    "**penalty='l2'**: Ridge regularization to prevent multicollinearity in feature sets.\n",
    "\n",
    "**solver='saga'**: Efficient for large datasets with sparse features.\n",
    "\n",
    "\n",
    "Resulting Performance:\n",
    "\n",
    "Weighted F1-Score: **0.7039** \n",
    "\n",
    "Improvement Over Baseline: Significant improvement, particularly for minority classes like AGRICULTURE and AUTOMOBILE.\n",
    "\n",
    "These parameters optimize the model’s ability to handle class imbalance and high-dimensional embeddings effectively.\n",
    "\n",
    "\n",
    "\n",
    "\n",
    "\n"
   ]
  },
  {
   "cell_type": "markdown",
   "metadata": {},
   "source": []
  },
  {
   "cell_type": "code",
   "execution_count": 31,
   "metadata": {},
   "outputs": [
    {
     "name": "stdout",
     "output_type": "stream",
     "text": [
      "Classification Report:\n",
      "\n",
      "                        precision    recall  f1-score   support\n",
      "\n",
      "            ACCOUNTANT       1.00      0.93      0.96        29\n",
      "              ADVOCATE       0.79      0.73      0.76        30\n",
      "           AGRICULTURE       0.18      0.25      0.21         8\n",
      "               APPAREL       0.45      0.50      0.48        20\n",
      "                  ARTS       0.25      0.11      0.15        18\n",
      "            AUTOMOBILE       0.07      0.17      0.10         6\n",
      "              AVIATION       0.71      0.71      0.71        21\n",
      "               BANKING       0.76      0.70      0.73        23\n",
      "                   BPO       0.17      0.50      0.25         2\n",
      "  BUSINESS-DEVELOPMENT       0.95      0.78      0.86        27\n",
      "                  CHEF       0.90      0.79      0.84        24\n",
      "          CONSTRUCTION       0.93      0.76      0.84        34\n",
      "            CONSULTANT       0.93      0.70      0.80        20\n",
      "              DESIGNER       0.78      0.95      0.86        19\n",
      "         DIGITAL-MEDIA       0.86      0.76      0.81        25\n",
      "           ENGINEERING       0.79      0.90      0.84        21\n",
      "               FINANCE       0.81      0.89      0.85        19\n",
      "               FITNESS       0.60      0.47      0.53        19\n",
      "            HEALTHCARE       0.46      0.55      0.50        20\n",
      "                    HR       0.82      1.00      0.90        18\n",
      "INFORMATION-TECHNOLOGY       0.78      0.96      0.86        26\n",
      "      PUBLIC-RELATIONS       0.47      0.47      0.47        17\n",
      "                 SALES       0.81      0.76      0.79        29\n",
      "               TEACHER       0.77      0.91      0.83        22\n",
      "\n",
      "              accuracy                           0.73       497\n",
      "             macro avg       0.67      0.68      0.66       497\n",
      "          weighted avg       0.75      0.73      0.73       497\n",
      "\n"
     ]
    },
    {
     "data": {
      "image/png": "[encoded data removed]",
      "text/plain": [
       "<Figure size 1000x800 with 2 Axes>"
      ]
     },
     "metadata": {},
     "output_type": "display_data"
    }
   ],
   "source": [
    "from sklearn.linear_model import LogisticRegression\n",
    "from sklearn.metrics import classification_report, confusion_matrix\n",
    "import matplotlib.pyplot as plt\n",
    "import seaborn as sns\n",
    "\n",
    "# Scale the data\n",
    "scaler = StandardScaler()\n",
    "X_train_scaled = scaler.fit_transform(X_train)\n",
    "X_test_scaled = scaler.transform(X_test)\n",
    "\n",
    "# Initialize Logistic Regression with the best parameters\n",
    "logistic_model = LogisticRegression(\n",
    "    C=0.01, \n",
    "    class_weight='balanced', \n",
    "    penalty='l2', \n",
    "    solver='saga', \n",
    "    max_iter=1000\n",
    ")\n",
    "\n",
    "# Train the model\n",
    "logistic_model.fit(X_train_scaled, y_train)\n",
    "\n",
    "# Predict on the test set\n",
    "y_pred = logistic_model.predict(X_test_scaled)\n",
    "\n",
    "# Generate and print classification report\n",
    "print(\"Classification Report:\\n\")\n",
    "print(classification_report(y_test, y_pred, target_names=label_encoder.classes_))\n",
    "\n",
    "# Generate the confusion matrix\n",
    "conf_matrix = confusion_matrix(y_test, y_pred)\n",
    "\n",
    "# Plot the confusion matrix\n",
    "plt.figure(figsize=(10, 8))\n",
    "sns.heatmap(conf_matrix, annot=True, fmt=\"d\", cmap=\"Blues\", xticklabels=label_encoder.classes_, yticklabels=label_encoder.classes_)\n",
    "plt.title(\"Confusion Matrix\")\n",
    "plt.xlabel(\"Predicted Label\")\n",
    "plt.ylabel(\"True Label\")\n",
    "plt.show()\n",
    "\n",
    "\n",
    "\n",
    "\n"
   ]
  },
  {
   "cell_type": "markdown",
   "metadata": {},
   "source": [
    "Fourth Visualization Above: **Confusion Matrix**"
   ]
  },
  {
   "cell_type": "markdown",
   "metadata": {},
   "source": []
  }
 ],
 "metadata": {
  "kernelspec": {
   "display_name": ".venv",
   "language": "python",
   "name": "python3"
  },
  "language_info": {
   "codemirror_mode": {
    "name": "ipython",
    "version": 3
   },
   "file_extension": ".py",
   "mimetype": "text/x-python",
   "name": "python",
   "nbconvert_exporter": "python",
   "pygments_lexer": "ipython3",
   "version": "3.12.6"
  }
 },
 "nbformat": 4,
 "nbformat_minor": 4
}
